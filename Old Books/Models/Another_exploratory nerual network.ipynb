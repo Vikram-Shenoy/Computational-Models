{
 "cells": [
  {
   "cell_type": "markdown",
   "id": "001c3e85",
   "metadata": {},
   "source": [
    "Just another neural network which is being tried for practise"
   ]
  },
  {
   "cell_type": "code",
   "execution_count": 1,
   "id": "35b7753c",
   "metadata": {},
   "outputs": [],
   "source": [
    "import pandas as pd\n",
    "import numpy as np \n",
    "from numpy import mean\n",
    "from numpy import std\n",
    "from sklearn.datasets import make_multilabel_classification\n",
    "from sklearn.model_selection import RepeatedKFold\n",
    "from keras.models import Sequential\n",
    "from keras.layers import Dense\n",
    "import tensorflow as tf\n",
    "pd.options.display.max_rows=None\n",
    "pd.options.display.max_columns=None\n",
    "from sklearn.metrics import accuracy_score\n"
   ]
  },
  {
   "cell_type": "code",
   "execution_count": 8,
   "id": "476c7538",
   "metadata": {},
   "outputs": [],
   "source": [
    "df1=pd.read_csv(\"random_imputed.csv\",index_col=[0])\n",
    "#df1_other=pd.read_csv(\"random_imputed.csv\",index_col=[0])\n",
    "df2=pd.read_csv(\"Raw_NaN.csv\",index_col=[0])\n",
    "df3=pd.read_csv(\"drug_onehot_latest.csv\",index_col=[0])"
   ]
  },
  {
   "cell_type": "code",
   "execution_count": 28,
   "id": "0fd2538f",
   "metadata": {},
   "outputs": [],
   "source": [
    "from sklearn import preprocessing\n"
   ]
  },
  {
   "cell_type": "code",
   "execution_count": 29,
   "id": "0b009a0b",
   "metadata": {},
   "outputs": [],
   "source": [
    "for i in df1_other.columns:\n",
    "    q1=df1_other[i].quantile(0.25)\n",
    "    q3=df1_other[i].quantile(0.75)\n",
    "    iqr=q3-q1\n",
    "    ub=q3 + 1.5*iqr\n",
    "    lb=q1 - 1.5*iqr\n",
    "    uc=df1_other[i].quantile(0.99)\n",
    "    lc=df1_other[i].quantile(0.01)\n",
    "    for ind1 in df1_other[i].index:\n",
    "        if df1_other.loc[ind1, i] >ub:            \n",
    "            df1_other.loc[ind1, i] =uc\n",
    "        if df1_other.loc[ind1, i] < lb:\n",
    "            df1_other.loc[ind1, i] =lc\n"
   ]
  },
  {
   "cell_type": "code",
   "execution_count": 43,
   "id": "0b8e545a",
   "metadata": {},
   "outputs": [],
   "source": [
    "scaler = preprocessing.RobustScaler()\n",
    "robust_df = scaler.fit_transform(df1)\n"
   ]
  },
  {
   "cell_type": "code",
   "execution_count": 42,
   "id": "583ab491",
   "metadata": {},
   "outputs": [],
   "source": [
    "scaler = preprocessing.StandardScaler()\n",
    "standard_df = scaler.fit_transform(df1)\n"
   ]
  },
  {
   "cell_type": "code",
   "execution_count": 41,
   "id": "eae1ce1e",
   "metadata": {},
   "outputs": [],
   "source": [
    "scaler = preprocessing.MinMaxScaler()\n",
    "minmax_df = scaler.fit_transform(df1)\n"
   ]
  },
  {
   "cell_type": "code",
   "execution_count": 17,
   "id": "417c169d",
   "metadata": {},
   "outputs": [],
   "source": [
    "from keras.models import Sequential\n",
    "from keras.layers import Dense\n",
    "from tensorflow.keras.optimizers import SGD\n",
    "from keras.metrics import binary_accuracy\n",
    "from tensorflow.keras.utils import to_categorical\n"
   ]
  },
  {
   "cell_type": "code",
   "execution_count": 35,
   "id": "49b3462f",
   "metadata": {},
   "outputs": [
    {
     "data": {
      "text/plain": [
       "gender                                                           False\n",
       "body.temperature                                                 False\n",
       "pulse                                                            False\n",
       "respiration                                                      False\n",
       "systolic.blood.pressure                                          False\n",
       "diastolic.blood.pressure                                         False\n",
       "map                                                              False\n",
       "BMI                                                              False\n",
       "type.of.heart.failure                                            False\n",
       "NYHA.cardiac.function.classification                             False\n",
       "Killip.grade                                                     False\n",
       "myocardial.infarction                                            False\n",
       "congestive.heart.failure                                         False\n",
       "peripheral.vascular.disease                                      False\n",
       "cerebrovascular.disease                                          False\n",
       "dementia                                                         False\n",
       "Chronic.obstructive.pulmonary.disease                            False\n",
       "connective.tissue.disease                                        False\n",
       "peptic.ulcer.disease                                             False\n",
       "diabetes                                                         False\n",
       "moderate.to.severe.chronic.kidney.disease                        False\n",
       "hemiplegia                                                       False\n",
       "leukemia                                                         False\n",
       "malignant.lymphoma                                               False\n",
       "solid.tumor                                                      False\n",
       "liver.disease                                                    False\n",
       "AIDS                                                             False\n",
       "CCI.score                                                        False\n",
       "type.II.respiratory.failure                                      False\n",
       "consciousness                                                    False\n",
       "eye.opening                                                      False\n",
       "verbal.response                                                  False\n",
       "movement                                                         False\n",
       "respiratory.support.                                             False\n",
       "oxygen.inhalation                                                False\n",
       "fio2                                                             False\n",
       "acute.renal.failure                                              False\n",
       "left.ventricular.end.diastolic.diameter.LV                       False\n",
       "mitral.valve.EMS                                                 False\n",
       "creatinine.enzymatic.method                                      False\n",
       "urea                                                             False\n",
       "uric.acid                                                        False\n",
       "glomerular.filtration.rate                                       False\n",
       "cystatin                                                         False\n",
       "white.blood.cell                                                 False\n",
       "monocyte.ratio                                                   False\n",
       "monocyte.count                                                   False\n",
       "red.blood.cell                                                   False\n",
       "coefficient.of.variation.of.red.blood.cell.distribution.width    False\n",
       "standard.deviation.of.red.blood.cell.distribution.width          False\n",
       "mean.corpuscular.volume                                          False\n",
       "hematocrit                                                       False\n",
       "lymphocyte.count                                                 False\n",
       "mean.hemoglobin.volume                                           False\n",
       "mean.hemoglobin.concentration                                    False\n",
       "mean.platelet.volume                                             False\n",
       "basophil.ratio                                                   False\n",
       "basophil.count                                                   False\n",
       "eosinophil.ratio                                                 False\n",
       "eosinophil.count                                                 False\n",
       "hemoglobin                                                       False\n",
       "platelet                                                         False\n",
       "platelet.distribution.width                                      False\n",
       "platelet.hematocrit                                              False\n",
       "neutrophil.ratio                                                 False\n",
       "neutrophil.count                                                 False\n",
       "D.dimer                                                          False\n",
       "international.normalized.ratio                                   False\n",
       "activated.partial.thromboplastin.time                            False\n",
       "thrombin.time                                                    False\n",
       "prothrombin.activity                                             False\n",
       "fibrinogen                                                       False\n",
       "high.sensitivity.troponin                                        False\n",
       "carbon.dioxide.binding.capacity                                  False\n",
       "calcium                                                          False\n",
       "potassium                                                        False\n",
       "chloride                                                         False\n",
       "sodium                                                           False\n",
       "creatine.kinase.isoenzyme.to.creatine.kinase                     False\n",
       "hydroxybutyrate.dehydrogenase.to.lactate.dehydrogenase           False\n",
       "hydroxybutyrate.dehydrogenase                                    False\n",
       "glutamic.oxaloacetic.transaminase                                False\n",
       "creatine.kinase                                                  False\n",
       "creatine.kinase.isoenzyme                                        False\n",
       "lactate.dehydrogenase                                            False\n",
       "brain.natriuretic.peptide                                        False\n",
       "high.sensitivity.protein                                         False\n",
       "nucleotidase                                                     False\n",
       "fucosidase                                                       False\n",
       "albumin                                                          False\n",
       "white.globulin.ratio                                             False\n",
       "glutamyltranspeptidase                                           False\n",
       "glutamic.pyruvic.transaminase                                    False\n",
       "indirect.bilirubin                                               False\n",
       "alkaline.phosphatase                                             False\n",
       "globulin                                                         False\n",
       "direct.bilirubin                                                 False\n",
       "total.bilirubin                                                  False\n",
       "total.bile.acid                                                  False\n",
       "total.protein                                                    False\n",
       "cholesterol                                                      False\n",
       "low.density.lipoprotein.cholesterol                              False\n",
       "triglyceride                                                     False\n",
       "high.density.lipoprotein.cholesterol                             False\n",
       "pH                                                               False\n",
       "standard.residual.base                                           False\n",
       "standard.bicarbonate                                             False\n",
       "partial.pressure.of.carbon.dioxide                               False\n",
       "total.carbon.dioxide                                             False\n",
       "methemoglobin                                                    False\n",
       "hematocrit.blood.gas                                             False\n",
       "reduced.hemoglobin                                               False\n",
       "potassium.ion                                                    False\n",
       "chloride.ion                                                     False\n",
       "sodium.ion                                                       False\n",
       "glucose.blood.gas                                                False\n",
       "lactate                                                          False\n",
       "measured.residual.base                                           False\n",
       "measured.bicarbonate                                             False\n",
       "carboxyhemoglobin                                                False\n",
       "oxygen.saturation                                                False\n",
       "partial.oxygen.pressure                                          False\n",
       "oxyhemoglobin                                                    False\n",
       "anion.gap                                                        False\n",
       "free.calcium                                                     False\n",
       "total.hemoglobin                                                 False\n",
       "GCS                                                              False\n",
       "ageCat                                                           False\n",
       "dtype: bool"
      ]
     },
     "execution_count": 35,
     "metadata": {},
     "output_type": "execute_result"
    }
   ],
   "source": [
    "df1.isnull().any()"
   ]
  },
  {
   "cell_type": "code",
   "execution_count": 44,
   "id": "94422038",
   "metadata": {},
   "outputs": [],
   "source": [
    "df1_other.drop(['gender','ageCat'],inplace=True,axis=1)"
   ]
  },
  {
   "cell_type": "code",
   "execution_count": 45,
   "id": "b21ac73d",
   "metadata": {},
   "outputs": [],
   "source": [
    "df4=df3['Atorvastatin calcium tablet']\n",
    "df4 = df4.to_frame()"
   ]
  },
  {
   "cell_type": "code",
   "execution_count": 71,
   "id": "48b10200",
   "metadata": {},
   "outputs": [],
   "source": [
    "y = to_categorical(df4)\n",
    "y = np.vstack((y[:, 0]))\n"
   ]
  },
  {
   "cell_type": "code",
   "execution_count": null,
   "id": "cb2ce38d",
   "metadata": {},
   "outputs": [],
   "source": [
    "# from sklearn.model_selection import train_test_split\n",
    "# X_train, X_test, y_train, y_test = train_test_split(standard_df, df4, test_size=0.2)\n"
   ]
  },
  {
   "cell_type": "code",
   "execution_count": 74,
   "id": "5f4e9df0",
   "metadata": {},
   "outputs": [
    {
     "name": "stdout",
     "output_type": "stream",
     "text": [
      "Epoch 1/20\n",
      "16/16 [==============================] - 2s 3ms/step - loss: 0.7029 - accuracy: 0.5966\n",
      "Epoch 2/20\n",
      "16/16 [==============================] - 0s 3ms/step - loss: 0.6263 - accuracy: 0.6455\n",
      "Epoch 3/20\n",
      "16/16 [==============================] - 0s 3ms/step - loss: 0.5982 - accuracy: 0.6850\n",
      "Epoch 4/20\n",
      "16/16 [==============================] - 0s 3ms/step - loss: 0.5777 - accuracy: 0.6965\n",
      "Epoch 5/20\n",
      "16/16 [==============================] - 0s 4ms/step - loss: 0.5585 - accuracy: 0.7169\n",
      "Epoch 6/20\n",
      "16/16 [==============================] - 0s 3ms/step - loss: 0.5436 - accuracy: 0.7244\n",
      "Epoch 7/20\n",
      "16/16 [==============================] - 0s 3ms/step - loss: 0.5285 - accuracy: 0.7399\n",
      "Epoch 8/20\n",
      "16/16 [==============================] - 0s 4ms/step - loss: 0.5162 - accuracy: 0.7499\n",
      "Epoch 9/20\n",
      "16/16 [==============================] - 0s 5ms/step - loss: 0.5037 - accuracy: 0.7594\n",
      "Epoch 10/20\n",
      "16/16 [==============================] - 0s 4ms/step - loss: 0.4904 - accuracy: 0.7639\n",
      "Epoch 11/20\n",
      "16/16 [==============================] - 0s 4ms/step - loss: 0.4792 - accuracy: 0.7738\n",
      "Epoch 12/20\n",
      "16/16 [==============================] - 0s 4ms/step - loss: 0.4690 - accuracy: 0.7853\n",
      "Epoch 13/20\n",
      "16/16 [==============================] - 0s 3ms/step - loss: 0.4559 - accuracy: 0.7923\n",
      "Epoch 14/20\n",
      "16/16 [==============================] - 0s 4ms/step - loss: 0.4438 - accuracy: 0.8088\n",
      "Epoch 15/20\n",
      "16/16 [==============================] - 0s 4ms/step - loss: 0.4338 - accuracy: 0.8198\n",
      "Epoch 16/20\n",
      "16/16 [==============================] - 0s 4ms/step - loss: 0.4238 - accuracy: 0.8178\n",
      "Epoch 17/20\n",
      "16/16 [==============================] - 0s 3ms/step - loss: 0.4120 - accuracy: 0.8342\n",
      "Epoch 18/20\n",
      "16/16 [==============================] - 0s 5ms/step - loss: 0.4022 - accuracy: 0.8412\n",
      "Epoch 19/20\n",
      "16/16 [==============================] - 0s 4ms/step - loss: 0.3919 - accuracy: 0.8427\n",
      "Epoch 20/20\n",
      "16/16 [==============================] - 0s 3ms/step - loss: 0.3811 - accuracy: 0.8477\n"
     ]
    },
    {
     "data": {
      "text/plain": [
       "<keras.callbacks.History at 0x1e136cc4a90>"
      ]
     },
     "execution_count": 74,
     "metadata": {},
     "output_type": "execute_result"
    }
   ],
   "source": [
    "clf = Sequential()\n",
    "clf.add(Dense(128, activation='relu', input_dim=df1.shape[1]))\n",
    "clf.add(Dense(1, activation='sigmoid'))\n",
    "clf.compile(loss='binary_crossentropy', optimizer=\"rmsprop\", metrics=[\"accuracy\"])\n",
    "clf.fit(standard_df, y, epochs=20, batch_size=128, verbose=1)\n"
   ]
  },
  {
   "cell_type": "code",
   "execution_count": 66,
   "id": "8e4f3a45",
   "metadata": {},
   "outputs": [
    {
     "data": {
      "text/plain": [
       "array([[1., 1.],\n",
       "       [1., 1.],\n",
       "       [1., 1.],\n",
       "       ...,\n",
       "       [1., 1.],\n",
       "       [1., 1.],\n",
       "       [1., 1.]], dtype=float32)"
      ]
     },
     "execution_count": 66,
     "metadata": {},
     "output_type": "execute_result"
    }
   ],
   "source": [
    "clf.evaluate()"
   ]
  },
  {
   "cell_type": "code",
   "execution_count": 67,
   "id": "092b23d4",
   "metadata": {},
   "outputs": [
    {
     "data": {
      "text/plain": [
       "array([[1., 1.],\n",
       "       [0., 1.],\n",
       "       [0., 1.],\n",
       "       ...,\n",
       "       [0., 1.],\n",
       "       [1., 1.],\n",
       "       [0., 1.]], dtype=float32)"
      ]
     },
     "execution_count": 67,
     "metadata": {},
     "output_type": "execute_result"
    }
   ],
   "source": [
    "y"
   ]
  },
  {
   "cell_type": "code",
   "execution_count": null,
   "id": "350d6d86",
   "metadata": {},
   "outputs": [],
   "source": []
  }
 ],
 "metadata": {
  "kernelspec": {
   "display_name": "Python 3",
   "language": "python",
   "name": "python3"
  },
  "language_info": {
   "codemirror_mode": {
    "name": "ipython",
    "version": 3
   },
   "file_extension": ".py",
   "mimetype": "text/x-python",
   "name": "python",
   "nbconvert_exporter": "python",
   "pygments_lexer": "ipython3",
   "version": "3.8.8"
  }
 },
 "nbformat": 4,
 "nbformat_minor": 5
}
