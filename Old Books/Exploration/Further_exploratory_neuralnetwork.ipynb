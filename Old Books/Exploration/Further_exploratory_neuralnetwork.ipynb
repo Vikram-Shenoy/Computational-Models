{
 "cells": [
  {
   "cell_type": "markdown",
   "metadata": {},
   "source": []
  },
  {
   "cell_type": "markdown",
   "metadata": {},
   "source": [
    "Further Neural Network Analysis (MultiLablel and for individual medicines)"
   ]
  },
  {
   "cell_type": "code",
   "execution_count": 201,
   "metadata": {},
   "outputs": [],
   "source": [
    "import pandas as pd\n",
    "import numpy as np \n",
    "from numpy import mean\n",
    "from numpy import std\n",
    "from sklearn.datasets import make_multilabel_classification\n",
    "from sklearn.model_selection import RepeatedKFold\n",
    "from keras.models import Sequential\n",
    "from keras.layers import Dense\n",
    "import tensorflow as tf\n",
    "pd.options.display.max_rows=None\n",
    "pd.options.display.max_columns=None\n",
    "from sklearn.metrics import accuracy_score"
   ]
  },
  {
   "cell_type": "code",
   "execution_count": 202,
   "metadata": {},
   "outputs": [],
   "source": [
    "df1=pd.read_csv(\"random_imputed.csv\",index_col=[0])\n",
    "df1_other=pd.read_csv(\"random_imputed.csv\",index_col=[0])\n",
    "df2=pd.read_csv(\"Raw_NaN.csv\",index_col=[0])\n",
    "df3=pd.read_csv(\"drug_onehot_latest.csv\",index_col=[0])"
   ]
  },
  {
   "cell_type": "code",
   "execution_count": 203,
   "metadata": {},
   "outputs": [
    {
     "data": {
      "text/html": [
       "<div>\n",
       "<style scoped>\n",
       "    .dataframe tbody tr th:only-of-type {\n",
       "        vertical-align: middle;\n",
       "    }\n",
       "\n",
       "    .dataframe tbody tr th {\n",
       "        vertical-align: top;\n",
       "    }\n",
       "\n",
       "    .dataframe thead th {\n",
       "        text-align: right;\n",
       "    }\n",
       "</style>\n",
       "<table border=\"1\" class=\"dataframe\">\n",
       "  <thead>\n",
       "    <tr style=\"text-align: right;\">\n",
       "      <th></th>\n",
       "      <th>sulfotanshinone sodium injection</th>\n",
       "      <th>Furosemide tablet</th>\n",
       "      <th>Meglumine Adenosine Cyclophosphate for injection</th>\n",
       "      <th>Furosemide injection</th>\n",
       "      <th>Milrinone injection</th>\n",
       "      <th>Deslanoside injection</th>\n",
       "      <th>Torasemide tablet</th>\n",
       "      <th>Benazepril hydrochloride tablet</th>\n",
       "      <th>Atorvastatin calcium tablet</th>\n",
       "      <th>Digoxin tablet</th>\n",
       "      <th>Hydrochlorothiazide tablet</th>\n",
       "      <th>Spironolactone tablet</th>\n",
       "      <th>Valsartan Dispersible tablet</th>\n",
       "      <th>Dobutamine hydrochloride injection</th>\n",
       "      <th>Isoprenaline Hydrochloride injection</th>\n",
       "      <th>Nitroglycerin injection</th>\n",
       "      <th>Shenfu injection</th>\n",
       "      <th>Isosorbide Mononitrate Sustained Release tablet</th>\n",
       "    </tr>\n",
       "    <tr>\n",
       "      <th>inpatient.number</th>\n",
       "      <th></th>\n",
       "      <th></th>\n",
       "      <th></th>\n",
       "      <th></th>\n",
       "      <th></th>\n",
       "      <th></th>\n",
       "      <th></th>\n",
       "      <th></th>\n",
       "      <th></th>\n",
       "      <th></th>\n",
       "      <th></th>\n",
       "      <th></th>\n",
       "      <th></th>\n",
       "      <th></th>\n",
       "      <th></th>\n",
       "      <th></th>\n",
       "      <th></th>\n",
       "      <th></th>\n",
       "    </tr>\n",
       "  </thead>\n",
       "  <tbody>\n",
       "    <tr>\n",
       "      <th>722128</th>\n",
       "      <td>0</td>\n",
       "      <td>1</td>\n",
       "      <td>0</td>\n",
       "      <td>1</td>\n",
       "      <td>1</td>\n",
       "      <td>1</td>\n",
       "      <td>0</td>\n",
       "      <td>0</td>\n",
       "      <td>0</td>\n",
       "      <td>1</td>\n",
       "      <td>0</td>\n",
       "      <td>1</td>\n",
       "      <td>0</td>\n",
       "      <td>0</td>\n",
       "      <td>0</td>\n",
       "      <td>0</td>\n",
       "      <td>0</td>\n",
       "      <td>0</td>\n",
       "    </tr>\n",
       "    <tr>\n",
       "      <th>723327</th>\n",
       "      <td>0</td>\n",
       "      <td>1</td>\n",
       "      <td>0</td>\n",
       "      <td>1</td>\n",
       "      <td>1</td>\n",
       "      <td>1</td>\n",
       "      <td>1</td>\n",
       "      <td>0</td>\n",
       "      <td>1</td>\n",
       "      <td>1</td>\n",
       "      <td>0</td>\n",
       "      <td>1</td>\n",
       "      <td>1</td>\n",
       "      <td>0</td>\n",
       "      <td>0</td>\n",
       "      <td>0</td>\n",
       "      <td>0</td>\n",
       "      <td>1</td>\n",
       "    </tr>\n",
       "    <tr>\n",
       "      <th>723617</th>\n",
       "      <td>0</td>\n",
       "      <td>0</td>\n",
       "      <td>0</td>\n",
       "      <td>1</td>\n",
       "      <td>0</td>\n",
       "      <td>0</td>\n",
       "      <td>0</td>\n",
       "      <td>0</td>\n",
       "      <td>1</td>\n",
       "      <td>0</td>\n",
       "      <td>0</td>\n",
       "      <td>1</td>\n",
       "      <td>0</td>\n",
       "      <td>0</td>\n",
       "      <td>0</td>\n",
       "      <td>0</td>\n",
       "      <td>0</td>\n",
       "      <td>0</td>\n",
       "    </tr>\n",
       "    <tr>\n",
       "      <th>724385</th>\n",
       "      <td>0</td>\n",
       "      <td>1</td>\n",
       "      <td>0</td>\n",
       "      <td>1</td>\n",
       "      <td>1</td>\n",
       "      <td>1</td>\n",
       "      <td>0</td>\n",
       "      <td>0</td>\n",
       "      <td>0</td>\n",
       "      <td>1</td>\n",
       "      <td>0</td>\n",
       "      <td>1</td>\n",
       "      <td>0</td>\n",
       "      <td>0</td>\n",
       "      <td>0</td>\n",
       "      <td>0</td>\n",
       "      <td>0</td>\n",
       "      <td>0</td>\n",
       "    </tr>\n",
       "    <tr>\n",
       "      <th>725509</th>\n",
       "      <td>0</td>\n",
       "      <td>1</td>\n",
       "      <td>0</td>\n",
       "      <td>1</td>\n",
       "      <td>1</td>\n",
       "      <td>1</td>\n",
       "      <td>1</td>\n",
       "      <td>0</td>\n",
       "      <td>0</td>\n",
       "      <td>1</td>\n",
       "      <td>0</td>\n",
       "      <td>1</td>\n",
       "      <td>0</td>\n",
       "      <td>0</td>\n",
       "      <td>0</td>\n",
       "      <td>0</td>\n",
       "      <td>1</td>\n",
       "      <td>0</td>\n",
       "    </tr>\n",
       "  </tbody>\n",
       "</table>\n",
       "</div>"
      ],
      "text/plain": [
       "                  sulfotanshinone sodium injection  Furosemide tablet  \\\n",
       "inpatient.number                                                        \n",
       "722128                                           0                  1   \n",
       "723327                                           0                  1   \n",
       "723617                                           0                  0   \n",
       "724385                                           0                  1   \n",
       "725509                                           0                  1   \n",
       "\n",
       "                  Meglumine Adenosine Cyclophosphate for injection  \\\n",
       "inpatient.number                                                     \n",
       "722128                                                           0   \n",
       "723327                                                           0   \n",
       "723617                                                           0   \n",
       "724385                                                           0   \n",
       "725509                                                           0   \n",
       "\n",
       "                  Furosemide injection  Milrinone injection  \\\n",
       "inpatient.number                                              \n",
       "722128                               1                    1   \n",
       "723327                               1                    1   \n",
       "723617                               1                    0   \n",
       "724385                               1                    1   \n",
       "725509                               1                    1   \n",
       "\n",
       "                  Deslanoside injection  Torasemide tablet  \\\n",
       "inpatient.number                                             \n",
       "722128                                1                  0   \n",
       "723327                                1                  1   \n",
       "723617                                0                  0   \n",
       "724385                                1                  0   \n",
       "725509                                1                  1   \n",
       "\n",
       "                  Benazepril hydrochloride tablet  \\\n",
       "inpatient.number                                    \n",
       "722128                                          0   \n",
       "723327                                          0   \n",
       "723617                                          0   \n",
       "724385                                          0   \n",
       "725509                                          0   \n",
       "\n",
       "                  Atorvastatin calcium tablet  Digoxin tablet  \\\n",
       "inpatient.number                                                \n",
       "722128                                      0               1   \n",
       "723327                                      1               1   \n",
       "723617                                      1               0   \n",
       "724385                                      0               1   \n",
       "725509                                      0               1   \n",
       "\n",
       "                  Hydrochlorothiazide tablet  Spironolactone tablet  \\\n",
       "inpatient.number                                                      \n",
       "722128                                     0                      1   \n",
       "723327                                     0                      1   \n",
       "723617                                     0                      1   \n",
       "724385                                     0                      1   \n",
       "725509                                     0                      1   \n",
       "\n",
       "                  Valsartan Dispersible tablet  \\\n",
       "inpatient.number                                 \n",
       "722128                                       0   \n",
       "723327                                       1   \n",
       "723617                                       0   \n",
       "724385                                       0   \n",
       "725509                                       0   \n",
       "\n",
       "                  Dobutamine hydrochloride injection  \\\n",
       "inpatient.number                                       \n",
       "722128                                             0   \n",
       "723327                                             0   \n",
       "723617                                             0   \n",
       "724385                                             0   \n",
       "725509                                             0   \n",
       "\n",
       "                  Isoprenaline Hydrochloride injection  \\\n",
       "inpatient.number                                         \n",
       "722128                                               0   \n",
       "723327                                               0   \n",
       "723617                                               0   \n",
       "724385                                               0   \n",
       "725509                                               0   \n",
       "\n",
       "                  Nitroglycerin injection  Shenfu injection  \\\n",
       "inpatient.number                                              \n",
       "722128                                  0                 0   \n",
       "723327                                  0                 0   \n",
       "723617                                  0                 0   \n",
       "724385                                  0                 0   \n",
       "725509                                  0                 1   \n",
       "\n",
       "                  Isosorbide Mononitrate Sustained Release tablet  \n",
       "inpatient.number                                                   \n",
       "722128                                                          0  \n",
       "723327                                                          1  \n",
       "723617                                                          0  \n",
       "724385                                                          0  \n",
       "725509                                                          0  "
      ]
     },
     "execution_count": 203,
     "metadata": {},
     "output_type": "execute_result"
    }
   ],
   "source": [
    "df3.head()"
   ]
  },
  {
   "cell_type": "code",
   "execution_count": 204,
   "metadata": {},
   "outputs": [],
   "source": [
    "from sklearn import preprocessing"
   ]
  },
  {
   "cell_type": "code",
   "execution_count": 205,
   "metadata": {},
   "outputs": [],
   "source": [
    "df1.drop(['gender','ageCat'],axis=1,inplace=True)"
   ]
  },
  {
   "cell_type": "code",
   "execution_count": 206,
   "metadata": {},
   "outputs": [],
   "source": [
    "scaler = preprocessing.RobustScaler()\n",
    "robust_df = scaler.fit_transform(df1)"
   ]
  },
  {
   "cell_type": "code",
   "execution_count": 207,
   "metadata": {},
   "outputs": [],
   "source": [
    "scaler = preprocessing.StandardScaler()\n",
    "standard_df = scaler.fit_transform(df1)"
   ]
  },
  {
   "cell_type": "code",
   "execution_count": 208,
   "metadata": {},
   "outputs": [],
   "source": [
    "scaler = preprocessing.MinMaxScaler()\n",
    "minmax_df = scaler.fit_transform(df1)"
   ]
  },
  {
   "cell_type": "code",
   "execution_count": 209,
   "metadata": {},
   "outputs": [],
   "source": [
    "scaler = preprocessing.RobustScaler()\n",
    "robust_df_other = scaler.fit_transform(df1_other)"
   ]
  },
  {
   "cell_type": "code",
   "execution_count": 210,
   "metadata": {},
   "outputs": [],
   "source": [
    "scaler = preprocessing.StandardScaler()\n",
    "standard_df_other = scaler.fit_transform(df1_other)"
   ]
  },
  {
   "cell_type": "code",
   "execution_count": 211,
   "metadata": {},
   "outputs": [],
   "source": [
    "scaler = preprocessing.MinMaxScaler()\n",
    "minmax_df_other = scaler.fit_transform(df1_other)"
   ]
  },
  {
   "cell_type": "code",
   "execution_count": 212,
   "metadata": {},
   "outputs": [],
   "source": [
    "df4=df3['Atorvastatin calcium tablet']\n",
    "df4 = df4.to_frame()"
   ]
  },
  {
   "cell_type": "code",
   "execution_count": 231,
   "metadata": {},
   "outputs": [],
   "source": [
    "import math\n",
    "import random"
   ]
  },
  {
   "cell_type": "code",
   "execution_count": 235,
   "metadata": {},
   "outputs": [],
   "source": [
    "n = 10\n",
    "# calculate the range for the weights\n",
    "std = math.sqrt(2.0 / n)\n",
    "# generate random numbers\n",
    "numbers =np.random.randn(1000)\n",
    "# scale to the desired range\n",
    "scaled = numbers * std\n"
   ]
  },
  {
   "cell_type": "code",
   "execution_count": 236,
   "metadata": {},
   "outputs": [],
   "source": [
    "from keras.models import Sequential\n",
    "from keras.layers import Dense\n",
    "from tensorflow.keras.optimizers import SGD\n",
    "from keras.metrics import binary_accuracy\n",
    "from tensorflow.keras.utils import to_categorical\n",
    "from tensorflow.keras import regularizers\n"
   ]
  },
  {
   "cell_type": "code",
   "execution_count": 237,
   "metadata": {},
   "outputs": [],
   "source": [
    "y = to_categorical(df4)\n",
    "y = np.vstack((y[:, 0]))"
   ]
  },
  {
   "cell_type": "code",
   "execution_count": 314,
   "metadata": {},
   "outputs": [],
   "source": [
    "from sklearn.model_selection import train_test_split\n",
    "X_train, X_test, y_train, y_test = train_test_split(standard_df, y, test_size=0.2)"
   ]
  },
  {
   "cell_type": "code",
   "execution_count": 315,
   "metadata": {},
   "outputs": [],
   "source": [
    "import random\n",
    "random.seed(42)"
   ]
  },
  {
   "cell_type": "code",
   "execution_count": null,
   "metadata": {},
   "outputs": [],
   "source": []
  },
  {
   "cell_type": "code",
   "execution_count": 320,
   "metadata": {},
   "outputs": [
    {
     "name": "stdout",
     "output_type": "stream",
     "text": [
      "Epoch 1/20\n",
      "51/51 [==============================] - 4s 26ms/step - loss: 0.7199 - accuracy: 0.5474 - val_loss: 0.6761 - val_accuracy: 0.6185\n",
      "Epoch 2/20\n",
      "51/51 [==============================] - 0s 9ms/step - loss: 0.6733 - accuracy: 0.5880 - val_loss: 0.6611 - val_accuracy: 0.6185\n",
      "Epoch 3/20\n",
      "51/51 [==============================] - 0s 10ms/step - loss: 0.6496 - accuracy: 0.6192 - val_loss: 0.6539 - val_accuracy: 0.6185\n",
      "Epoch 4/20\n",
      "51/51 [==============================] - 0s 10ms/step - loss: 0.6327 - accuracy: 0.6323 - val_loss: 0.6516 - val_accuracy: 0.6309\n",
      "Epoch 5/20\n",
      "51/51 [==============================] - 0s 9ms/step - loss: 0.6206 - accuracy: 0.6417 - val_loss: 0.6486 - val_accuracy: 0.6384\n",
      "Epoch 6/20\n",
      "51/51 [==============================] - 0s 7ms/step - loss: 0.6099 - accuracy: 0.6604 - val_loss: 0.6499 - val_accuracy: 0.6384\n",
      "Epoch 7/20\n",
      "51/51 [==============================] - 0s 8ms/step - loss: 0.6009 - accuracy: 0.6673 - val_loss: 0.6529 - val_accuracy: 0.6484\n",
      "Epoch 8/20\n",
      "51/51 [==============================] - 0s 10ms/step - loss: 0.5932 - accuracy: 0.6829 - val_loss: 0.6530 - val_accuracy: 0.6559\n",
      "Epoch 9/20\n",
      "51/51 [==============================] - 0s 9ms/step - loss: 0.5864 - accuracy: 0.6923 - val_loss: 0.6544 - val_accuracy: 0.6509\n",
      "Epoch 10/20\n",
      "51/51 [==============================] - 1s 12ms/step - loss: 0.5796 - accuracy: 0.6960 - val_loss: 0.6562 - val_accuracy: 0.6434\n",
      "Epoch 11/20\n",
      "51/51 [==============================] - 1s 15ms/step - loss: 0.5746 - accuracy: 0.7010 - val_loss: 0.6589 - val_accuracy: 0.6334\n",
      "Epoch 12/20\n",
      "51/51 [==============================] - 1s 17ms/step - loss: 0.5699 - accuracy: 0.7066 - val_loss: 0.6597 - val_accuracy: 0.6334\n",
      "Epoch 13/20\n",
      "51/51 [==============================] - 0s 8ms/step - loss: 0.5649 - accuracy: 0.7154 - val_loss: 0.6650 - val_accuracy: 0.6409\n",
      "Epoch 14/20\n",
      "51/51 [==============================] - 0s 8ms/step - loss: 0.5601 - accuracy: 0.7154 - val_loss: 0.6681 - val_accuracy: 0.6384\n",
      "Epoch 15/20\n",
      "51/51 [==============================] - 1s 11ms/step - loss: 0.5553 - accuracy: 0.7197 - val_loss: 0.6713 - val_accuracy: 0.6434\n",
      "Epoch 16/20\n",
      "51/51 [==============================] - 1s 12ms/step - loss: 0.5516 - accuracy: 0.7247 - val_loss: 0.6752 - val_accuracy: 0.6434\n",
      "Epoch 17/20\n",
      "51/51 [==============================] - 0s 7ms/step - loss: 0.5474 - accuracy: 0.7272 - val_loss: 0.6766 - val_accuracy: 0.6484\n",
      "Epoch 18/20\n",
      "51/51 [==============================] - 0s 7ms/step - loss: 0.5430 - accuracy: 0.7291 - val_loss: 0.6796 - val_accuracy: 0.6509\n",
      "Epoch 19/20\n",
      "51/51 [==============================] - 0s 10ms/step - loss: 0.5399 - accuracy: 0.7285 - val_loss: 0.6842 - val_accuracy: 0.6384\n",
      "Epoch 20/20\n",
      "51/51 [==============================] - 0s 8ms/step - loss: 0.5364 - accuracy: 0.7297 - val_loss: 0.6896 - val_accuracy: 0.6409\n"
     ]
    },
    {
     "data": {
      "text/plain": [
       "<keras.callbacks.History at 0x24e05d89be0>"
      ]
     },
     "execution_count": 320,
     "metadata": {},
     "output_type": "execute_result"
    }
   ],
   "source": [
    "clf = Sequential()\n",
    "clf.add(Dense(8, activation='relu', input_dim=df1.shape[1]))\n",
    "##clf.add(Dense(2,activation=\"relu\"))\n",
    "clf.add(Dense(1, activation='sigmoid'))\n",
    "clf.compile(loss='binary_crossentropy', optimizer=\"rmsprop\", metrics=[\"accuracy\"])\n",
    "clf.fit(X_train, y_train,validation_data=(X_test,y_test),epochs=20,batch_size=32,verbose=1)"
   ]
  },
  {
   "cell_type": "code",
   "execution_count": 321,
   "metadata": {},
   "outputs": [
    {
     "name": "stdout",
     "output_type": "stream",
     "text": [
      "13/13 [==============================] - 0s 3ms/step - loss: 0.6896 - accuracy: 0.6409\n"
     ]
    },
    {
     "data": {
      "text/plain": [
       "[0.6896159052848816, 0.6408977508544922]"
      ]
     },
     "execution_count": 321,
     "metadata": {},
     "output_type": "execute_result"
    }
   ],
   "source": [
    "clf.evaluate(X_test,y_test)"
   ]
  },
  {
   "cell_type": "code",
   "execution_count": 322,
   "metadata": {},
   "outputs": [],
   "source": [
    "ypred=clf.predict(X_test)"
   ]
  },
  {
   "cell_type": "code",
   "execution_count": 323,
   "metadata": {},
   "outputs": [
    {
     "name": "stderr",
     "output_type": "stream",
     "text": [
      "E:\\anoconda\\lib\\site-packages\\sklearn\\utils\\validation.py:63: DataConversionWarning: A column-vector y was passed when a 1d array was expected. Please change the shape of y to (n_samples, ), for example using ravel().\n",
      "  return f(*args, **kwargs)\n",
      "E:\\anoconda\\lib\\site-packages\\sklearn\\linear_model\\_logistic.py:763: ConvergenceWarning: lbfgs failed to converge (status=1):\n",
      "STOP: TOTAL NO. of ITERATIONS REACHED LIMIT.\n",
      "\n",
      "Increase the number of iterations (max_iter) or scale the data as shown in:\n",
      "    https://scikit-learn.org/stable/modules/preprocessing.html\n",
      "Please also refer to the documentation for alternative solver options:\n",
      "    https://scikit-learn.org/stable/modules/linear_model.html#logistic-regression\n",
      "  n_iter_i = _check_optimize_result(\n"
     ]
    },
    {
     "data": {
      "text/plain": [
       "LogisticRegression(random_state=0)"
      ]
     },
     "execution_count": 323,
     "metadata": {},
     "output_type": "execute_result"
    }
   ],
   "source": [
    "from sklearn.linear_model import LogisticRegression\n",
    "classifier = LogisticRegression(random_state = 0)\n",
    "classifier.fit(X_train, y_train)\n"
   ]
  },
  {
   "cell_type": "code",
   "execution_count": 324,
   "metadata": {},
   "outputs": [],
   "source": [
    "y_pred = classifier.predict(X_test)\n"
   ]
  },
  {
   "cell_type": "code",
   "execution_count": 325,
   "metadata": {},
   "outputs": [
    {
     "name": "stdout",
     "output_type": "stream",
     "text": [
      "Confusion Matrix : \n",
      " [[ 64 103]\n",
      " [ 55 179]]\n"
     ]
    }
   ],
   "source": [
    "from sklearn.metrics import confusion_matrix\n",
    "cm = confusion_matrix(y_test, y_pred)\n",
    " \n",
    "print (\"Confusion Matrix : \\n\", cm)\n"
   ]
  },
  {
   "cell_type": "code",
   "execution_count": 326,
   "metadata": {},
   "outputs": [
    {
     "data": {
      "text/plain": [
       "0.6059850374064838"
      ]
     },
     "execution_count": 326,
     "metadata": {},
     "output_type": "execute_result"
    }
   ],
   "source": [
    "accuracy_score(y_test, y_pred)"
   ]
  },
  {
   "cell_type": "code",
   "execution_count": 89,
   "metadata": {},
   "outputs": [],
   "source": [
    "# clf = Sequential()\n",
    "# clf.add(Dense(32, activation='relu', input_dim=df1.shape[1]))\n",
    "# # clf.add(Dense(64, activation='relu'))\n",
    "# clf.add(Dense(1, activation='sigmoid'))\n",
    "# clf.compile(loss='binary_crossentropy', optimizer=SGD(), metrics=[\"accuracy\"])\n",
    "# clf.fit(X_train, y_train, epochs=60, batch_size=128, verbose=1)"
   ]
  },
  {
   "cell_type": "code",
   "execution_count": 49,
   "metadata": {},
   "outputs": [
    {
     "name": "stdout",
     "output_type": "stream",
     "text": [
      "7/7 [==============================] - 1s 2ms/step - loss: 0.7030 - accuracy: 0.5572\n"
     ]
    },
    {
     "data": {
      "text/plain": [
       "[0.7029848098754883, 0.5572139024734497]"
      ]
     },
     "execution_count": 49,
     "metadata": {},
     "output_type": "execute_result"
    }
   ],
   "source": [
    "# clf.evaluate(X_test,y_test)"
   ]
  },
  {
   "cell_type": "code",
   "execution_count": 338,
   "metadata": {},
   "outputs": [
    {
     "data": {
      "text/plain": [
       "(2003, 51)"
      ]
     },
     "execution_count": 338,
     "metadata": {},
     "output_type": "execute_result"
    }
   ],
   "source": [
    "from sklearn.decomposition import PCA\n",
    "pca = PCA(n_components = 0.95)\n",
    "pca.fit(minmax_df)\n",
    "reduced = pca.transform(minmax_df)\n",
    "reduced.shape"
   ]
  },
  {
   "cell_type": "markdown",
   "metadata": {},
   "source": [
    "# lets try PCA and then train the model \n",
    "\n"
   ]
  },
  {
   "cell_type": "code",
   "execution_count": 340,
   "metadata": {},
   "outputs": [
    {
     "data": {
      "image/png": "[encoded data removed]",
      "text/plain": [
       "<Figure size 864x432 with 1 Axes>"
      ]
     },
     "metadata": {
      "needs_background": "light"
     },
     "output_type": "display_data"
    }
   ],
   "source": [
    "from sklearn.decomposition import PCA\n",
    "\n",
    "%matplotlib inline\n",
    "import matplotlib.pyplot as plt\n",
    "plt.rcParams[\"figure.figsize\"] = (12,6)\n",
    "\n",
    "fig, ax = plt.subplots()\n",
    "xi = np.arange(1, 52, step=1)\n",
    "y = np.cumsum(pca.explained_variance_ratio_)\n",
    "\n",
    "plt.ylim(0.0,1.1)\n",
    "plt.plot(xi, y, marker='o', linestyle='--', color='b')\n",
    "\n",
    "plt.xlabel('Number of Components')\n",
    "plt.xticks(np.arange(0, 60, step=1)) #change from 0-based array index to 1-based human-readable label\n",
    "plt.ylabel('Cumulative variance (%)')\n",
    "plt.title('The number of components needed to explain variance')\n",
    "\n",
    "plt.axhline(y=0.95, color='r', linestyle='-')\n",
    "plt.text(0.5, 0.85, '95% cut-off threshold', color = 'red', fontsize=16)\n",
    "\n",
    "ax.grid(axis='x')\n",
    "plt.show()\n"
   ]
  },
  {
   "cell_type": "code",
   "execution_count": 341,
   "metadata": {},
   "outputs": [],
   "source": [
    " \n",
    "pca = PCA(n_components = 51)\n",
    " \n",
    "X_train = pca.fit_transform(X_train)\n",
    "X_test = pca.transform(X_test)\n",
    " \n",
    "explained_variance = pca.explained_variance_ratio_\n"
   ]
  },
  {
   "cell_type": "code",
   "execution_count": 345,
   "metadata": {},
   "outputs": [
    {
     "name": "stdout",
     "output_type": "stream",
     "text": [
      "Epoch 1/20\n",
      "51/51 [==============================] - 4s 22ms/step - loss: 0.7341 - accuracy: 0.5362 - val_loss: 0.7052 - val_accuracy: 0.5736\n",
      "Epoch 2/20\n",
      "51/51 [==============================] - 0s 8ms/step - loss: 0.6537 - accuracy: 0.5911 - val_loss: 0.6824 - val_accuracy: 0.5885\n",
      "Epoch 3/20\n",
      "51/51 [==============================] - 0s 8ms/step - loss: 0.6237 - accuracy: 0.6336 - val_loss: 0.6790 - val_accuracy: 0.6010\n",
      "Epoch 4/20\n",
      "51/51 [==============================] - 0s 8ms/step - loss: 0.6060 - accuracy: 0.6635 - val_loss: 0.6718 - val_accuracy: 0.6135\n",
      "Epoch 5/20\n",
      "51/51 [==============================] - 0s 6ms/step - loss: 0.5934 - accuracy: 0.6854 - val_loss: 0.6733 - val_accuracy: 0.6085\n",
      "Epoch 6/20\n",
      "51/51 [==============================] - 0s 7ms/step - loss: 0.5822 - accuracy: 0.6935 - val_loss: 0.6721 - val_accuracy: 0.6160\n",
      "Epoch 7/20\n",
      "51/51 [==============================] - 0s 7ms/step - loss: 0.5731 - accuracy: 0.7079 - val_loss: 0.6742 - val_accuracy: 0.6359\n",
      "Epoch 8/20\n",
      "51/51 [==============================] - 0s 8ms/step - loss: 0.5644 - accuracy: 0.7029 - val_loss: 0.6747 - val_accuracy: 0.6185\n",
      "Epoch 9/20\n",
      "51/51 [==============================] - 0s 6ms/step - loss: 0.5548 - accuracy: 0.7216 - val_loss: 0.6738 - val_accuracy: 0.6259\n",
      "Epoch 10/20\n",
      "51/51 [==============================] - 0s 8ms/step - loss: 0.5480 - accuracy: 0.7253 - val_loss: 0.6723 - val_accuracy: 0.6185\n",
      "Epoch 11/20\n",
      "51/51 [==============================] - 0s 8ms/step - loss: 0.5385 - accuracy: 0.7441 - val_loss: 0.6738 - val_accuracy: 0.6284\n",
      "Epoch 12/20\n",
      "51/51 [==============================] - 0s 8ms/step - loss: 0.5309 - accuracy: 0.7509 - val_loss: 0.6791 - val_accuracy: 0.6234\n",
      "Epoch 13/20\n",
      "51/51 [==============================] - 0s 9ms/step - loss: 0.5239 - accuracy: 0.7441 - val_loss: 0.6689 - val_accuracy: 0.6359\n",
      "Epoch 14/20\n",
      "51/51 [==============================] - 0s 7ms/step - loss: 0.5142 - accuracy: 0.7541 - val_loss: 0.6731 - val_accuracy: 0.6259\n",
      "Epoch 15/20\n",
      "51/51 [==============================] - 0s 7ms/step - loss: 0.5060 - accuracy: 0.7522 - val_loss: 0.6809 - val_accuracy: 0.6334\n",
      "Epoch 16/20\n",
      "51/51 [==============================] - 0s 7ms/step - loss: 0.4986 - accuracy: 0.7647 - val_loss: 0.6739 - val_accuracy: 0.6359\n",
      "Epoch 17/20\n",
      "51/51 [==============================] - 0s 7ms/step - loss: 0.4917 - accuracy: 0.7759 - val_loss: 0.6809 - val_accuracy: 0.6284\n",
      "Epoch 18/20\n",
      "51/51 [==============================] - 0s 7ms/step - loss: 0.4844 - accuracy: 0.7803 - val_loss: 0.6857 - val_accuracy: 0.6284\n",
      "Epoch 19/20\n",
      "51/51 [==============================] - 0s 6ms/step - loss: 0.4763 - accuracy: 0.7834 - val_loss: 0.6891 - val_accuracy: 0.6384\n",
      "Epoch 20/20\n",
      "51/51 [==============================] - 0s 8ms/step - loss: 0.4686 - accuracy: 0.7915 - val_loss: 0.6996 - val_accuracy: 0.6334\n"
     ]
    },
    {
     "data": {
      "text/plain": [
       "<keras.callbacks.History at 0x24e0e81fdf0>"
      ]
     },
     "execution_count": 345,
     "metadata": {},
     "output_type": "execute_result"
    }
   ],
   "source": [
    "clf = Sequential()\n",
    "clf.add(Dense(64, activation='relu', input_dim=reduced.shape[1]))\n",
    "##clf.add(Dense(2,activation=\"relu\"))\n",
    "clf.add(Dense(1, activation='sigmoid'))\n",
    "clf.compile(loss='binary_crossentropy', optimizer=\"rmsprop\", metrics=[\"accuracy\"])\n",
    "clf.fit(X_train, y_train,validation_data=(X_test,y_test),epochs=20,verbose=1)"
   ]
  },
  {
   "cell_type": "code",
   "execution_count": null,
   "metadata": {},
   "outputs": [],
   "source": []
  }
 ],
 "metadata": {
  "interpreter": {
   "hash": "73dd3e9b8560be4eb6b5d0b09c06c2ef1dcaada477697451385c3e06c6541382"
  },
  "kernelspec": {
   "display_name": "Python 3",
   "language": "python",
   "name": "python3"
  },
  "language_info": {
   "codemirror_mode": {
    "name": "ipython",
    "version": 3
   },
   "file_extension": ".py",
   "mimetype": "text/x-python",
   "name": "python",
   "nbconvert_exporter": "python",
   "pygments_lexer": "ipython3",
   "version": "3.8.8"
  }
 },
 "nbformat": 4,
 "nbformat_minor": 2
}
