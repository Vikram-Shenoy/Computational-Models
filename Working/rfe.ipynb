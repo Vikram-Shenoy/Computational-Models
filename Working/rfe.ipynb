{
 "cells": [
  {
   "cell_type": "code",
   "execution_count": 7,
   "metadata": {},
   "outputs": [],
   "source": [
    "import pandas as pd\n",
    "import numpy as np \n",
    "from numpy import mean\n",
    "from numpy import std\n",
    "from sklearn.datasets import make_multilabel_classification\n",
    "# from sklearn.model_selection import RepeatedKFold\n",
    "# # from keras.models import Sequential\n",
    "# # from keras.layers import Dense\n",
    "# import tensorflow as tf\n",
    "# pd.options.display.max_rows=None\n",
    "# pd.options.display.max_columns=None\n",
    "# from sklearn.metrics import accuracy_score\n",
    "# # from keras.models import Sequential\n",
    "# # from keras.layers import Dense\n",
    "# from tensorflow.keras.optimizers import SGD\n",
    "# from keras.metrics import binary_accuracy\n",
    "# from tensorflow.keras.utils import to_categorical"
   ]
  },
  {
   "cell_type": "markdown",
   "metadata": {},
   "source": [
    "# RFE and Neural Networks(Back Propogation)"
   ]
  },
  {
   "cell_type": "code",
   "execution_count": 8,
   "metadata": {},
   "outputs": [],
   "source": [
    "df1=pd.read_csv(\"random_imputed.csv\",index_col=[0])\n",
    "#df1_other=pd.read_csv(\"random_imputed.csv\",index_col=[0])\n",
    "df2=pd.read_csv(\"Raw_NaN.csv\",index_col=[0])\n",
    "df3=pd.read_csv(\"drug_onehot_latest.csv\",index_col=[0])"
   ]
  },
  {
   "cell_type": "code",
   "execution_count": 9,
   "metadata": {},
   "outputs": [],
   "source": [
    "df1.drop(['gender','ageCat'],inplace=True,axis=1)"
   ]
  },
  {
   "cell_type": "code",
   "execution_count": 10,
   "metadata": {},
   "outputs": [],
   "source": [
    "from sklearn import preprocessing"
   ]
  },
  {
   "cell_type": "code",
   "execution_count": 11,
   "metadata": {},
   "outputs": [],
   "source": [
    "scaler = preprocessing.StandardScaler()\n",
    "standard_df = scaler.fit_transform(df1)"
   ]
  },
  {
   "cell_type": "code",
   "execution_count": 12,
   "metadata": {},
   "outputs": [],
   "source": [
    "# standard_df[0][1]"
   ]
  },
  {
   "cell_type": "code",
   "execution_count": 13,
   "metadata": {},
   "outputs": [],
   "source": [
    "# len(standard_df)"
   ]
  },
  {
   "cell_type": "code",
   "execution_count": 14,
   "metadata": {},
   "outputs": [],
   "source": [
    "scaler = preprocessing.RobustScaler()\n",
    "robust_df = scaler.fit_transform(df1)"
   ]
  },
  {
   "cell_type": "code",
   "execution_count": 15,
   "metadata": {},
   "outputs": [],
   "source": [
    "scaler = preprocessing.MinMaxScaler()\n",
    "minmax_df = scaler.fit_transform(df1)\n"
   ]
  },
  {
   "cell_type": "code",
   "execution_count": null,
   "metadata": {},
   "outputs": [],
   "source": []
  },
  {
   "cell_type": "code",
   "execution_count": 16,
   "metadata": {},
   "outputs": [],
   "source": [
    "df4=df3['Atorvastatin calcium tablet']\n",
    "df4 = df4.to_frame()"
   ]
  },
  {
   "cell_type": "code",
   "execution_count": 17,
   "metadata": {},
   "outputs": [
    {
     "data": {
      "text/plain": [
       "(2003, 126)"
      ]
     },
     "execution_count": 17,
     "metadata": {},
     "output_type": "execute_result"
    }
   ],
   "source": [
    "standard_df.shape"
   ]
  },
  {
   "cell_type": "code",
   "execution_count": 18,
   "metadata": {},
   "outputs": [
    {
     "data": {
      "text/plain": [
       "(2003, 126)"
      ]
     },
     "execution_count": 18,
     "metadata": {},
     "output_type": "execute_result"
    }
   ],
   "source": [
    "df1.shape"
   ]
  },
  {
   "cell_type": "code",
   "execution_count": null,
   "metadata": {},
   "outputs": [],
   "source": [
    "\n",
    "# explore the number of selected features for RFE\n",
    "from numpy import mean\n",
    "from numpy import std\n",
    "from sklearn.datasets import make_classification\n",
    "from sklearn.model_selection import cross_val_score\n",
    "from sklearn.model_selection import RepeatedStratifiedKFold\n",
    "from sklearn.feature_selection import RFE\n",
    "from sklearn.tree import DecisionTreeClassifier\n",
    "from sklearn.linear_model import LogisticRegression\n",
    "from sklearn.pipeline import Pipeline\n",
    "from matplotlib import pyplot\n",
    " \n",
    "# get the dataset\n",
    "def get_dataset():\n",
    "\treturn standard_df, df4\n",
    " \n",
    "# get a list of models to evaluate\n",
    "def get_models():\n",
    "\tmodels = dict()\n",
    "\tfor i in range(30, 126):\n",
    "\t\trfe = RFE(estimator=DecisionTreeClassifier(), n_features_to_select=i)\n",
    "\t\tmodel = LogisticRegression()\n",
    "\t\tmodels[str(i)] = Pipeline(steps=[('s',rfe),('m',model)])\n",
    "\treturn models\n",
    " \n",
    "# evaluate a give model using cross-validation\n",
    "def evaluate_model(model, X, y):\n",
    "\tcv = RepeatedStratifiedKFold(n_splits=10, n_repeats=3, random_state=1)\n",
    "\tscores = cross_val_score(model, X, y, scoring='accuracy', cv=cv, n_jobs=-1, error_score='raise')\n",
    "\treturn scores\n",
    " \n",
    "# define dataset\n",
    "X, y = get_dataset()\n",
    "# get the models to evaluate\n",
    "models = get_models()\n",
    "# evaluate the models and store results\n",
    "results, names = list(), list()\n",
    "for name, model in models.items():\n",
    "\tscores = evaluate_model(model, X, y)\n",
    "\tresults.append(scores)\n",
    "\tnames.append(name)\n",
    "\tprint('>%s %.3f (%.3f)' % (name, mean(scores), std(scores)))\n",
    "# plot model performance for comparison\n",
    "pyplot.boxplot(results, labels=names, showmeans=True)\n",
    "pyplot.show()"
   ]
  },
  {
   "cell_type": "code",
   "execution_count": 19,
   "metadata": {},
   "outputs": [
    {
     "data": {
      "text/plain": [
       "(2003, 126)"
      ]
     },
     "execution_count": 19,
     "metadata": {},
     "output_type": "execute_result"
    }
   ],
   "source": [
    "standard_df.shape"
   ]
  },
  {
   "cell_type": "code",
   "execution_count": 20,
   "metadata": {},
   "outputs": [],
   "source": [
    "li = []"
   ]
  },
  {
   "cell_type": "code",
   "execution_count": 21,
   "metadata": {},
   "outputs": [],
   "source": [
    "def get_dataset():\n",
    "\treturn standard_df, df4"
   ]
  },
  {
   "cell_type": "code",
   "execution_count": 22,
   "metadata": {},
   "outputs": [],
   "source": [
    "X, y = get_dataset()"
   ]
  },
  {
   "cell_type": "code",
   "execution_count": 23,
   "metadata": {},
   "outputs": [
    {
     "name": "stdout",
     "output_type": "stream",
     "text": [
      "Column: 0, Selected True, Rank: 1.000\n",
      "Column: 1, Selected True, Rank: 1.000\n",
      "Column: 2, Selected True, Rank: 1.000\n",
      "Column: 3, Selected True, Rank: 1.000\n",
      "Column: 4, Selected True, Rank: 1.000\n",
      "Column: 5, Selected True, Rank: 1.000\n",
      "Column: 6, Selected True, Rank: 1.000\n",
      "Column: 7, Selected False, Rank: 9.000\n",
      "Column: 8, Selected False, Rank: 22.000\n",
      "Column: 9, Selected False, Rank: 15.000\n",
      "Column: 10, Selected True, Rank: 1.000\n",
      "Column: 11, Selected True, Rank: 1.000\n",
      "Column: 12, Selected True, Rank: 1.000\n",
      "Column: 13, Selected True, Rank: 1.000\n",
      "Column: 14, Selected True, Rank: 1.000\n",
      "Column: 15, Selected False, Rank: 40.000\n",
      "Column: 16, Selected False, Rank: 20.000\n",
      "Column: 17, Selected False, Rank: 31.000\n",
      "Column: 18, Selected False, Rank: 37.000\n",
      "Column: 19, Selected True, Rank: 1.000\n",
      "Column: 20, Selected False, Rank: 45.000\n",
      "Column: 21, Selected False, Rank: 46.000\n",
      "Column: 22, Selected False, Rank: 33.000\n",
      "Column: 23, Selected False, Rank: 36.000\n",
      "Column: 24, Selected False, Rank: 47.000\n",
      "Column: 25, Selected False, Rank: 32.000\n",
      "Column: 26, Selected True, Rank: 1.000\n",
      "Column: 27, Selected False, Rank: 28.000\n",
      "Column: 28, Selected False, Rank: 44.000\n",
      "Column: 29, Selected False, Rank: 26.000\n",
      "Column: 30, Selected False, Rank: 14.000\n",
      "Column: 31, Selected False, Rank: 41.000\n",
      "Column: 32, Selected False, Rank: 34.000\n",
      "Column: 33, Selected False, Rank: 43.000\n",
      "Column: 34, Selected False, Rank: 39.000\n",
      "Column: 35, Selected False, Rank: 11.000\n",
      "Column: 36, Selected True, Rank: 1.000\n",
      "Column: 37, Selected True, Rank: 1.000\n",
      "Column: 38, Selected True, Rank: 1.000\n",
      "Column: 39, Selected True, Rank: 1.000\n",
      "Column: 40, Selected True, Rank: 1.000\n",
      "Column: 41, Selected True, Rank: 1.000\n",
      "Column: 42, Selected True, Rank: 1.000\n",
      "Column: 43, Selected True, Rank: 1.000\n",
      "Column: 44, Selected True, Rank: 1.000\n",
      "Column: 45, Selected True, Rank: 1.000\n",
      "Column: 46, Selected False, Rank: 7.000\n",
      "Column: 47, Selected False, Rank: 3.000\n",
      "Column: 48, Selected True, Rank: 1.000\n",
      "Column: 49, Selected True, Rank: 1.000\n",
      "Column: 50, Selected False, Rank: 18.000\n",
      "Column: 51, Selected True, Rank: 1.000\n",
      "Column: 52, Selected True, Rank: 1.000\n",
      "Column: 53, Selected True, Rank: 1.000\n",
      "Column: 54, Selected True, Rank: 1.000\n",
      "Column: 55, Selected True, Rank: 1.000\n",
      "Column: 56, Selected True, Rank: 1.000\n",
      "Column: 57, Selected True, Rank: 1.000\n",
      "Column: 58, Selected False, Rank: 27.000\n",
      "Column: 59, Selected True, Rank: 1.000\n",
      "Column: 60, Selected True, Rank: 1.000\n",
      "Column: 61, Selected True, Rank: 1.000\n",
      "Column: 62, Selected True, Rank: 1.000\n",
      "Column: 63, Selected True, Rank: 1.000\n",
      "Column: 64, Selected True, Rank: 1.000\n",
      "Column: 65, Selected True, Rank: 1.000\n",
      "Column: 66, Selected False, Rank: 10.000\n",
      "Column: 67, Selected True, Rank: 1.000\n",
      "Column: 68, Selected True, Rank: 1.000\n",
      "Column: 69, Selected True, Rank: 1.000\n",
      "Column: 70, Selected True, Rank: 1.000\n",
      "Column: 71, Selected True, Rank: 1.000\n",
      "Column: 72, Selected True, Rank: 1.000\n",
      "Column: 73, Selected True, Rank: 1.000\n",
      "Column: 74, Selected True, Rank: 1.000\n",
      "Column: 75, Selected True, Rank: 1.000\n",
      "Column: 76, Selected True, Rank: 1.000\n",
      "Column: 77, Selected False, Rank: 16.000\n",
      "Column: 78, Selected True, Rank: 1.000\n",
      "Column: 79, Selected True, Rank: 1.000\n",
      "Column: 80, Selected True, Rank: 1.000\n",
      "Column: 81, Selected True, Rank: 1.000\n",
      "Column: 82, Selected True, Rank: 1.000\n",
      "Column: 83, Selected True, Rank: 1.000\n",
      "Column: 84, Selected True, Rank: 1.000\n",
      "Column: 85, Selected False, Rank: 13.000\n",
      "Column: 86, Selected True, Rank: 1.000\n",
      "Column: 87, Selected True, Rank: 1.000\n",
      "Column: 88, Selected True, Rank: 1.000\n",
      "Column: 89, Selected True, Rank: 1.000\n",
      "Column: 90, Selected True, Rank: 1.000\n",
      "Column: 91, Selected True, Rank: 1.000\n",
      "Column: 92, Selected False, Rank: 38.000\n",
      "Column: 93, Selected True, Rank: 1.000\n",
      "Column: 94, Selected True, Rank: 1.000\n",
      "Column: 95, Selected False, Rank: 4.000\n",
      "Column: 96, Selected True, Rank: 1.000\n",
      "Column: 97, Selected True, Rank: 1.000\n",
      "Column: 98, Selected True, Rank: 1.000\n",
      "Column: 99, Selected True, Rank: 1.000\n",
      "Column: 100, Selected True, Rank: 1.000\n",
      "Column: 101, Selected True, Rank: 1.000\n",
      "Column: 102, Selected True, Rank: 1.000\n",
      "Column: 103, Selected False, Rank: 2.000\n",
      "Column: 104, Selected False, Rank: 24.000\n",
      "Column: 105, Selected False, Rank: 30.000\n",
      "Column: 106, Selected False, Rank: 35.000\n",
      "Column: 107, Selected False, Rank: 23.000\n",
      "Column: 108, Selected True, Rank: 1.000\n",
      "Column: 109, Selected True, Rank: 1.000\n",
      "Column: 110, Selected True, Rank: 1.000\n",
      "Column: 111, Selected True, Rank: 1.000\n",
      "Column: 112, Selected False, Rank: 6.000\n",
      "Column: 113, Selected False, Rank: 12.000\n",
      "Column: 114, Selected True, Rank: 1.000\n",
      "Column: 115, Selected False, Rank: 8.000\n",
      "Column: 116, Selected False, Rank: 17.000\n",
      "Column: 117, Selected False, Rank: 42.000\n",
      "Column: 118, Selected True, Rank: 1.000\n",
      "Column: 119, Selected False, Rank: 5.000\n",
      "Column: 120, Selected False, Rank: 19.000\n",
      "Column: 121, Selected True, Rank: 1.000\n",
      "Column: 122, Selected False, Rank: 21.000\n",
      "Column: 123, Selected False, Rank: 25.000\n",
      "Column: 124, Selected False, Rank: 29.000\n",
      "Column: 125, Selected False, Rank: 48.000\n"
     ]
    }
   ],
   "source": [
    "from sklearn.datasets import make_classification\n",
    "from sklearn.feature_selection import RFE\n",
    "from sklearn.tree import DecisionTreeClassifier\n",
    "# define dataset\n",
    "# X, y = make_classification(n_samples=1000, n_features=10, n_informative=5, n_redundant=5, random_state=1)\n",
    "# define RFE\n",
    "rfe = RFE(estimator=DecisionTreeClassifier(), n_features_to_select=79)\n",
    "# fit RFE\n",
    "rfe.fit(standard_df, df4)\n",
    "# summarize all features\n",
    "count = 0\n",
    "for i in range(X.shape[1]):\n",
    "\tprint('Column: %d, Selected %s, Rank: %.3f' % (i, rfe.support_[i], rfe.ranking_[i]))\n",
    "\tif(rfe.support_[i]==True):\n",
    "\t\tcount +=1\n",
    "\t\t# print(i)\n",
    "\t\tli.append(i)\n",
    "  \t\n",
    "  "
   ]
  },
  {
   "cell_type": "code",
   "execution_count": 24,
   "metadata": {},
   "outputs": [
    {
     "data": {
      "text/plain": [
       "79"
      ]
     },
     "execution_count": 24,
     "metadata": {},
     "output_type": "execute_result"
    }
   ],
   "source": [
    "count"
   ]
  },
  {
   "cell_type": "code",
   "execution_count": 25,
   "metadata": {},
   "outputs": [
    {
     "name": "stdout",
     "output_type": "stream",
     "text": [
      "[0, 1, 2, 3, 4, 5, 6, 10, 11, 12, 13, 14, 19, 26, 36, 37, 38, 39, 40, 41, 42, 43, 44, 45, 48, 49, 51, 52, 53, 54, 55, 56, 57, 59, 60, 61, 62, 63, 64, 65, 67, 68, 69, 70, 71, 72, 73, 74, 75, 76, 78, 79, 80, 81, 82, 83, 84, 86, 87, 88, 89, 90, 91, 93, 94, 96, 97, 98, 99, 100, 101, 102, 108, 109, 110, 111, 114, 118, 121]\n"
     ]
    }
   ],
   "source": [
    "print(li)"
   ]
  },
  {
   "cell_type": "code",
   "execution_count": 26,
   "metadata": {},
   "outputs": [
    {
     "ename": "ValueError",
     "evalue": "too many values to unpack (expected 2)",
     "output_type": "error",
     "traceback": [
      "\u001b[1;31m---------------------------------------------------------------------------\u001b[0m",
      "\u001b[1;31mValueError\u001b[0m                                Traceback (most recent call last)",
      "\u001b[1;32m~\\AppData\\Local\\Temp\\ipykernel_10600\\2620117518.py\u001b[0m in \u001b[0;36m<module>\u001b[1;34m\u001b[0m\n\u001b[1;32m----> 1\u001b[1;33m \u001b[1;32mfor\u001b[0m \u001b[0mcol\u001b[0m\u001b[1;33m,\u001b[0m\u001b[0mi\u001b[0m \u001b[1;32min\u001b[0m \u001b[0mdf1\u001b[0m\u001b[1;33m.\u001b[0m\u001b[0mcolumns\u001b[0m\u001b[1;33m,\u001b[0m\u001b[1;36m127\u001b[0m\u001b[1;33m:\u001b[0m\u001b[1;33m\u001b[0m\u001b[1;33m\u001b[0m\u001b[0m\n\u001b[0m\u001b[0;32m      2\u001b[0m     \u001b[1;32mif\u001b[0m \u001b[0mi\u001b[0m \u001b[1;32min\u001b[0m \u001b[0mli\u001b[0m\u001b[1;33m:\u001b[0m\u001b[1;33m\u001b[0m\u001b[1;33m\u001b[0m\u001b[0m\n\u001b[0;32m      3\u001b[0m         \u001b[1;32mcontinue\u001b[0m\u001b[1;33m\u001b[0m\u001b[1;33m\u001b[0m\u001b[0m\n\u001b[0;32m      4\u001b[0m     \u001b[1;32melse\u001b[0m\u001b[1;33m:\u001b[0m\u001b[1;33m\u001b[0m\u001b[1;33m\u001b[0m\u001b[0m\n\u001b[0;32m      5\u001b[0m         \u001b[0mdf1\u001b[0m\u001b[1;33m.\u001b[0m\u001b[0mdrop\u001b[0m\u001b[1;33m(\u001b[0m\u001b[0mcol\u001b[0m\u001b[1;33m,\u001b[0m\u001b[0maxis\u001b[0m\u001b[1;33m=\u001b[0m\u001b[1;36m1\u001b[0m\u001b[1;33m,\u001b[0m\u001b[0minplace\u001b[0m\u001b[1;33m=\u001b[0m\u001b[1;32mTrue\u001b[0m\u001b[1;33m)\u001b[0m\u001b[1;33m\u001b[0m\u001b[1;33m\u001b[0m\u001b[0m\n",
      "\u001b[1;31mValueError\u001b[0m: too many values to unpack (expected 2)"
     ]
    }
   ],
   "source": [
    "for col,i in df1.columns,127:\n",
    "    if i in li:\n",
    "        continue\n",
    "    else:\n",
    "        df1.drop(col,axis=1,inplace=True)"
   ]
  },
  {
   "cell_type": "code",
   "execution_count": null,
   "metadata": {},
   "outputs": [],
   "source": []
  }
 ],
 "metadata": {
  "interpreter": {
   "hash": "73dd3e9b8560be4eb6b5d0b09c06c2ef1dcaada477697451385c3e06c6541382"
  },
  "kernelspec": {
   "display_name": "Python 3.10.4 64-bit",
   "language": "python",
   "name": "python3"
  },
  "language_info": {
   "codemirror_mode": {
    "name": "ipython",
    "version": 3
   },
   "file_extension": ".py",
   "mimetype": "text/x-python",
   "name": "python",
   "nbconvert_exporter": "python",
   "pygments_lexer": "ipython3",
   "version": "3.9.6"
  },
  "orig_nbformat": 4
 },
 "nbformat": 4,
 "nbformat_minor": 2
}
