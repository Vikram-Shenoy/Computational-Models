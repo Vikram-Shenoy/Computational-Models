{
 "cells": [
  {
   "cell_type": "markdown",
   "metadata": {},
   "source": []
  },
  {
   "cell_type": "markdown",
   "metadata": {},
   "source": [
    "Further Neural Network Analysis (MultiLablel and for individual medicines)"
   ]
  },
  {
   "cell_type": "code",
   "execution_count": 104,
   "metadata": {},
   "outputs": [],
   "source": [
    "import pandas as pd\n",
    "import numpy as np \n",
    "from numpy import mean\n",
    "from numpy import std\n",
    "from sklearn.datasets import make_multilabel_classification\n",
    "from sklearn.model_selection import RepeatedKFold\n",
    "from keras.models import Sequential\n",
    "from keras.layers import Dense\n",
    "import tensorflow as tf\n",
    "pd.options.display.max_rows=None\n",
    "pd.options.display.max_columns=None\n",
    "from sklearn.metrics import accuracy_score"
   ]
  },
  {
   "cell_type": "code",
   "execution_count": 105,
   "metadata": {},
   "outputs": [],
   "source": [
    "df1=pd.read_csv(\"random_imputed.csv\",index_col=[0])\n",
    "df1_other=pd.read_csv(\"random_imputed.csv\",index_col=[0])\n",
    "df2=pd.read_csv(\"Raw_NaN.csv\",index_col=[0])\n",
    "df3=pd.read_csv(\"drug_onehot_latest.csv\",index_col=[0])"
   ]
  },
  {
   "cell_type": "code",
   "execution_count": 106,
   "metadata": {},
   "outputs": [],
   "source": [
    "from sklearn import preprocessing"
   ]
  },
  {
   "cell_type": "code",
   "execution_count": 107,
   "metadata": {},
   "outputs": [],
   "source": [
    "for i in df1_other.columns:\n",
    "    q1=df1_other[i].quantile(0.25)\n",
    "    q3=df1_other[i].quantile(0.75)\n",
    "    iqr=q3-q1\n",
    "    ub=q3 + 1.5*iqr\n",
    "    lb=q1 - 1.5*iqr\n",
    "    uc=df1_other[i].quantile(0.99)\n",
    "    lc=df1_other[i].quantile(0.01)\n",
    "    for ind1 in df1_other[i].index:\n",
    "        if df1_other.loc[ind1, i] >ub:            \n",
    "            df1_other.loc[ind1, i] =uc\n",
    "        if df1_other.loc[ind1, i] < lb:\n",
    "            df1_other.loc[ind1, i] =lc"
   ]
  },
  {
   "cell_type": "code",
   "execution_count": 108,
   "metadata": {},
   "outputs": [],
   "source": [
    "scaler = preprocessing.RobustScaler()\n",
    "robust_df = scaler.fit_transform(df1)"
   ]
  },
  {
   "cell_type": "code",
   "execution_count": 109,
   "metadata": {},
   "outputs": [],
   "source": [
    "scaler = preprocessing.StandardScaler()\n",
    "standard_df = scaler.fit_transform(df1)"
   ]
  },
  {
   "cell_type": "code",
   "execution_count": 110,
   "metadata": {},
   "outputs": [],
   "source": [
    "scaler = preprocessing.MinMaxScaler()\n",
    "minmax_df = scaler.fit_transform(df1)"
   ]
  },
  {
   "cell_type": "code",
   "execution_count": 111,
   "metadata": {},
   "outputs": [],
   "source": [
    "scaler = preprocessing.RobustScaler()\n",
    "robust_df_other = scaler.fit_transform(df1_other)"
   ]
  },
  {
   "cell_type": "code",
   "execution_count": 112,
   "metadata": {},
   "outputs": [],
   "source": [
    "scaler = preprocessing.StandardScaler()\n",
    "standard_df_other = scaler.fit_transform(df1_other)"
   ]
  },
  {
   "cell_type": "code",
   "execution_count": 113,
   "metadata": {},
   "outputs": [],
   "source": [
    "scaler = preprocessing.MinMaxScaler()\n",
    "minmax_df_other = scaler.fit_transform(df1_other)"
   ]
  },
  {
   "cell_type": "code",
   "execution_count": 114,
   "metadata": {},
   "outputs": [],
   "source": [
    "df4=df3['Atorvastatin calcium tablet']\n",
    "df4 = df4.to_frame()"
   ]
  },
  {
   "cell_type": "code",
   "execution_count": 115,
   "metadata": {},
   "outputs": [],
   "source": [
    "from keras.models import Sequential\n",
    "from keras.layers import Dense\n",
    "from tensorflow.keras.optimizers import SGD\n",
    "from keras.metrics import binary_accuracy\n",
    "from tensorflow.keras.utils import to_categorical"
   ]
  },
  {
   "cell_type": "code",
   "execution_count": 116,
   "metadata": {},
   "outputs": [],
   "source": [
    "y = to_categorical(df4)\n",
    "y = np.vstack((y[:, 0]))"
   ]
  },
  {
   "cell_type": "code",
   "execution_count": 126,
   "metadata": {},
   "outputs": [],
   "source": [
    "from sklearn.model_selection import train_test_split\n",
    "X_train, X_test, y_train, y_test = train_test_split(robust_df, df4, test_size=0.3)"
   ]
  },
  {
   "cell_type": "code",
   "execution_count": 137,
   "metadata": {},
   "outputs": [],
   "source": [
    "import random\n",
    "random.seed(42)"
   ]
  },
  {
   "cell_type": "code",
   "execution_count": 140,
   "metadata": {},
   "outputs": [
    {
     "name": "stdout",
     "output_type": "stream",
     "text": [
      "Epoch 1/60\n",
      "44/44 [==============================] - 0s 951us/step - loss: 2.0464 - accuracy: 0.5164\n",
      "Epoch 2/60\n",
      "44/44 [==============================] - 0s 974us/step - loss: 1.2052 - accuracy: 0.5728\n",
      "Epoch 3/60\n",
      "44/44 [==============================] - 0s 1ms/step - loss: 0.8523 - accuracy: 0.6013\n",
      "Epoch 4/60\n",
      "44/44 [==============================] - 0s 1ms/step - loss: 0.7975 - accuracy: 0.5984\n",
      "Epoch 5/60\n",
      "44/44 [==============================] - 0s 997us/step - loss: 0.8503 - accuracy: 0.5970\n",
      "Epoch 6/60\n",
      "44/44 [==============================] - 0s 835us/step - loss: 0.7174 - accuracy: 0.6270\n",
      "Epoch 7/60\n",
      "44/44 [==============================] - 0s 974us/step - loss: 0.7229 - accuracy: 0.6127\n",
      "Epoch 8/60\n",
      "44/44 [==============================] - 0s 905us/step - loss: 0.6657 - accuracy: 0.6270\n",
      "Epoch 9/60\n",
      "44/44 [==============================] - 0s 997us/step - loss: 0.6627 - accuracy: 0.6362\n",
      "Epoch 10/60\n",
      "44/44 [==============================] - 0s 905us/step - loss: 0.6554 - accuracy: 0.6248\n",
      "Epoch 11/60\n",
      "44/44 [==============================] - 0s 858us/step - loss: 0.6562 - accuracy: 0.6348\n",
      "Epoch 12/60\n",
      "44/44 [==============================] - 0s 974us/step - loss: 0.6395 - accuracy: 0.6476\n",
      "Epoch 13/60\n",
      "44/44 [==============================] - 0s 952us/step - loss: 0.6389 - accuracy: 0.6484\n",
      "Epoch 14/60\n",
      "44/44 [==============================] - 0s 1ms/step - loss: 0.6243 - accuracy: 0.6491\n",
      "Epoch 15/60\n",
      "44/44 [==============================] - 0s 1ms/step - loss: 0.6197 - accuracy: 0.6569\n",
      "Epoch 16/60\n",
      "44/44 [==============================] - 0s 881us/step - loss: 0.6142 - accuracy: 0.6498\n",
      "Epoch 17/60\n",
      "44/44 [==============================] - 0s 835us/step - loss: 0.6138 - accuracy: 0.6633\n",
      "Epoch 18/60\n",
      "44/44 [==============================] - 0s 1ms/step - loss: 0.6075 - accuracy: 0.6519\n",
      "Epoch 19/60\n",
      "44/44 [==============================] - 0s 952us/step - loss: 0.6119 - accuracy: 0.6662\n",
      "Epoch 20/60\n",
      "44/44 [==============================] - 0s 1ms/step - loss: 0.6028 - accuracy: 0.6776\n",
      "Epoch 21/60\n",
      "44/44 [==============================] - 0s 1ms/step - loss: 0.6052 - accuracy: 0.6626\n",
      "Epoch 22/60\n",
      "44/44 [==============================] - 0s 997us/step - loss: 0.6030 - accuracy: 0.6698\n",
      "Epoch 23/60\n",
      "44/44 [==============================] - 0s 929us/step - loss: 0.5970 - accuracy: 0.6783\n",
      "Epoch 24/60\n",
      "44/44 [==============================] - 0s 865us/step - loss: 0.5953 - accuracy: 0.6690\n",
      "Epoch 25/60\n",
      "44/44 [==============================] - 0s 1ms/step - loss: 0.5919 - accuracy: 0.6833\n",
      "Epoch 26/60\n",
      "44/44 [==============================] - 0s 1ms/step - loss: 0.5859 - accuracy: 0.6826\n",
      "Epoch 27/60\n",
      "44/44 [==============================] - 0s 881us/step - loss: 0.5798 - accuracy: 0.6961\n",
      "Epoch 28/60\n",
      "44/44 [==============================] - 0s 1ms/step - loss: 0.5777 - accuracy: 0.6933\n",
      "Epoch 29/60\n",
      "44/44 [==============================] - 0s 880us/step - loss: 0.5829 - accuracy: 0.6961\n",
      "Epoch 30/60\n",
      "44/44 [==============================] - 0s 929us/step - loss: 0.5725 - accuracy: 0.6954\n",
      "Epoch 31/60\n",
      "44/44 [==============================] - 0s 952us/step - loss: 0.5675 - accuracy: 0.6990\n",
      "Epoch 32/60\n",
      "44/44 [==============================] - 0s 960us/step - loss: 0.5700 - accuracy: 0.7054\n",
      "Epoch 33/60\n",
      "44/44 [==============================] - 0s 834us/step - loss: 0.5656 - accuracy: 0.7033\n",
      "Epoch 34/60\n",
      "44/44 [==============================] - 0s 929us/step - loss: 0.5626 - accuracy: 0.6997\n",
      "Epoch 35/60\n",
      "44/44 [==============================] - 0s 818us/step - loss: 0.5680 - accuracy: 0.7019\n",
      "Epoch 36/60\n",
      "44/44 [==============================] - 0s 928us/step - loss: 0.5643 - accuracy: 0.7068\n",
      "Epoch 37/60\n",
      "44/44 [==============================] - 0s 881us/step - loss: 0.5558 - accuracy: 0.7068\n",
      "Epoch 38/60\n",
      "44/44 [==============================] - 0s 835us/step - loss: 0.5554 - accuracy: 0.7154\n",
      "Epoch 39/60\n",
      "44/44 [==============================] - 0s 997us/step - loss: 0.5538 - accuracy: 0.7175\n",
      "Epoch 40/60\n",
      "44/44 [==============================] - 0s 812us/step - loss: 0.5463 - accuracy: 0.7190\n",
      "Epoch 41/60\n",
      "44/44 [==============================] - 0s 905us/step - loss: 0.5440 - accuracy: 0.7147\n",
      "Epoch 42/60\n",
      "44/44 [==============================] - 0s 836us/step - loss: 0.5411 - accuracy: 0.7247\n",
      "Epoch 43/60\n",
      "44/44 [==============================] - 0s 902us/step - loss: 0.5393 - accuracy: 0.7197\n",
      "Epoch 44/60\n",
      "44/44 [==============================] - 0s 827us/step - loss: 0.5373 - accuracy: 0.7311\n",
      "Epoch 45/60\n",
      "44/44 [==============================] - 0s 927us/step - loss: 0.5824 - accuracy: 0.7197\n",
      "Epoch 46/60\n",
      "44/44 [==============================] - 0s 828us/step - loss: 0.5304 - accuracy: 0.7325\n",
      "Epoch 47/60\n",
      "44/44 [==============================] - 0s 1ms/step - loss: 0.5305 - accuracy: 0.7290\n",
      "Epoch 48/60\n",
      "44/44 [==============================] - 0s 760us/step - loss: 0.5236 - accuracy: 0.7439\n",
      "Epoch 49/60\n",
      "44/44 [==============================] - 0s 822us/step - loss: 0.5325 - accuracy: 0.7418\n",
      "Epoch 50/60\n",
      "44/44 [==============================] - 0s 873us/step - loss: 0.5286 - accuracy: 0.7439\n",
      "Epoch 51/60\n",
      "44/44 [==============================] - 0s 905us/step - loss: 0.5329 - accuracy: 0.7311\n",
      "Epoch 52/60\n",
      "44/44 [==============================] - 0s 858us/step - loss: 0.5141 - accuracy: 0.7475\n",
      "Epoch 53/60\n",
      "44/44 [==============================] - 0s 853us/step - loss: 0.5152 - accuracy: 0.7511\n",
      "Epoch 54/60\n",
      "44/44 [==============================] - 0s 905us/step - loss: 0.5071 - accuracy: 0.7482\n",
      "Epoch 55/60\n",
      "44/44 [==============================] - 0s 882us/step - loss: 0.5111 - accuracy: 0.7511\n",
      "Epoch 56/60\n",
      "44/44 [==============================] - 0s 866us/step - loss: 0.5196 - accuracy: 0.7525\n",
      "Epoch 57/60\n",
      "44/44 [==============================] - 0s 905us/step - loss: 0.5172 - accuracy: 0.7447\n",
      "Epoch 58/60\n",
      "44/44 [==============================] - 0s 789us/step - loss: 0.5188 - accuracy: 0.7518\n",
      "Epoch 59/60\n",
      "44/44 [==============================] - 0s 881us/step - loss: 0.5017 - accuracy: 0.7589\n",
      "Epoch 60/60\n",
      "44/44 [==============================] - 0s 836us/step - loss: 0.4961 - accuracy: 0.7618\n"
     ]
    },
    {
     "data": {
      "text/plain": [
       "<keras.callbacks.History at 0x1b259da71f0>"
      ]
     },
     "execution_count": 140,
     "metadata": {},
     "output_type": "execute_result"
    }
   ],
   "source": [
    "clf = Sequential()\n",
    "clf.add(Dense(126, activation='relu', input_dim=df1.shape[1]))\n",
    "clf.add(Dense(1, activation='sigmoid'))\n",
    "clf.compile(loss='binary_crossentropy', optimizer=SGD(), metrics=[\"accuracy\"])\n",
    "clf.fit(X_train, y_train, epochs=60, batch_size=32, verbose=1)"
   ]
  },
  {
   "cell_type": "code",
   "execution_count": 141,
   "metadata": {},
   "outputs": [
    {
     "name": "stdout",
     "output_type": "stream",
     "text": [
      "19/19 [==============================] - 0s 886us/step - loss: 0.7197 - accuracy: 0.6389\n"
     ]
    },
    {
     "data": {
      "text/plain": [
       "[0.7197373509407043, 0.6389350891113281]"
      ]
     },
     "execution_count": 141,
     "metadata": {},
     "output_type": "execute_result"
    }
   ],
   "source": [
    "clf.evaluate(X_test,y_test)"
   ]
  },
  {
   "cell_type": "code",
   "execution_count": 142,
   "metadata": {},
   "outputs": [
    {
     "name": "stdout",
     "output_type": "stream",
     "text": [
      "Epoch 1/60\n",
      "44/44 [==============================] - 0s 998us/step - loss: 1.1601 - accuracy: 0.5392\n",
      "Epoch 2/60\n",
      "44/44 [==============================] - 0s 952us/step - loss: 0.7833 - accuracy: 0.5927\n",
      "Epoch 3/60\n",
      "44/44 [==============================] - 0s 975us/step - loss: 0.7173 - accuracy: 0.6049\n",
      "Epoch 4/60\n",
      "44/44 [==============================] - 0s 997us/step - loss: 0.6831 - accuracy: 0.6098\n",
      "Epoch 5/60\n",
      "44/44 [==============================] - 0s 890us/step - loss: 0.6750 - accuracy: 0.6191\n",
      "Epoch 6/60\n",
      "44/44 [==============================] - 0s 974us/step - loss: 0.7030 - accuracy: 0.6191\n",
      "Epoch 7/60\n",
      "44/44 [==============================] - 0s 1ms/step - loss: 0.6649 - accuracy: 0.6320\n",
      "Epoch 8/60\n",
      "44/44 [==============================] - 0s 1ms/step - loss: 0.6593 - accuracy: 0.6377\n",
      "Epoch 9/60\n",
      "44/44 [==============================] - 0s 975us/step - loss: 0.6542 - accuracy: 0.6405\n",
      "Epoch 10/60\n",
      "44/44 [==============================] - 0s 934us/step - loss: 0.6542 - accuracy: 0.6362\n",
      "Epoch 11/60\n",
      "44/44 [==============================] - 0s 997us/step - loss: 0.6363 - accuracy: 0.6476\n",
      "Epoch 12/60\n",
      "44/44 [==============================] - 0s 1ms/step - loss: 0.6490 - accuracy: 0.6526\n",
      "Epoch 13/60\n",
      "44/44 [==============================] - 0s 905us/step - loss: 0.6290 - accuracy: 0.6526\n",
      "Epoch 14/60\n",
      "44/44 [==============================] - 0s 974us/step - loss: 0.6219 - accuracy: 0.6598\n",
      "Epoch 15/60\n",
      "44/44 [==============================] - 0s 984us/step - loss: 0.6316 - accuracy: 0.6541\n",
      "Epoch 16/60\n",
      "44/44 [==============================] - 0s 1ms/step - loss: 0.6156 - accuracy: 0.6591\n",
      "Epoch 17/60\n",
      "44/44 [==============================] - 0s 1ms/step - loss: 0.6115 - accuracy: 0.6591\n",
      "Epoch 18/60\n",
      "44/44 [==============================] - 0s 944us/step - loss: 0.6112 - accuracy: 0.6619\n",
      "Epoch 19/60\n",
      "44/44 [==============================] - 0s 928us/step - loss: 0.6066 - accuracy: 0.6605\n",
      "Epoch 20/60\n",
      "44/44 [==============================] - 0s 925us/step - loss: 0.6049 - accuracy: 0.6598\n",
      "Epoch 21/60\n",
      "44/44 [==============================] - 0s 1ms/step - loss: 0.6034 - accuracy: 0.6712\n",
      "Epoch 22/60\n",
      "44/44 [==============================] - 0s 959us/step - loss: 0.6033 - accuracy: 0.6712\n",
      "Epoch 23/60\n",
      "44/44 [==============================] - 0s 928us/step - loss: 0.5977 - accuracy: 0.6819\n",
      "Epoch 24/60\n",
      "44/44 [==============================] - 0s 925us/step - loss: 0.5972 - accuracy: 0.6755\n",
      "Epoch 25/60\n",
      "44/44 [==============================] - 0s 972us/step - loss: 0.5935 - accuracy: 0.6769\n",
      "Epoch 26/60\n",
      "44/44 [==============================] - 0s 891us/step - loss: 0.5922 - accuracy: 0.6847\n",
      "Epoch 27/60\n",
      "44/44 [==============================] - 0s 989us/step - loss: 0.5859 - accuracy: 0.7019\n",
      "Epoch 28/60\n",
      "44/44 [==============================] - 0s 938us/step - loss: 0.5885 - accuracy: 0.6897\n",
      "Epoch 29/60\n",
      "44/44 [==============================] - 0s 1ms/step - loss: 0.5812 - accuracy: 0.7011\n",
      "Epoch 30/60\n",
      "44/44 [==============================] - 0s 1ms/step - loss: 0.5756 - accuracy: 0.6997\n",
      "Epoch 31/60\n",
      "44/44 [==============================] - 0s 879us/step - loss: 0.5771 - accuracy: 0.7068\n",
      "Epoch 32/60\n",
      "44/44 [==============================] - 0s 975us/step - loss: 0.5731 - accuracy: 0.7033\n",
      "Epoch 33/60\n",
      "44/44 [==============================] - 0s 881us/step - loss: 0.5703 - accuracy: 0.7040\n",
      "Epoch 34/60\n",
      "44/44 [==============================] - 0s 1ms/step - loss: 0.5675 - accuracy: 0.7175\n",
      "Epoch 35/60\n",
      "44/44 [==============================] - 0s 950us/step - loss: 0.5635 - accuracy: 0.7140\n",
      "Epoch 36/60\n",
      "44/44 [==============================] - 0s 931us/step - loss: 0.5654 - accuracy: 0.7090\n",
      "Epoch 37/60\n",
      "44/44 [==============================] - 0s 974us/step - loss: 0.5695 - accuracy: 0.7204\n",
      "Epoch 38/60\n",
      "44/44 [==============================] - 0s 907us/step - loss: 0.5568 - accuracy: 0.7211\n",
      "Epoch 39/60\n",
      "44/44 [==============================] - 0s 998us/step - loss: 0.5608 - accuracy: 0.7183\n",
      "Epoch 40/60\n",
      "44/44 [==============================] - 0s 921us/step - loss: 0.5555 - accuracy: 0.7254\n",
      "Epoch 41/60\n",
      "44/44 [==============================] - 0s 951us/step - loss: 0.5527 - accuracy: 0.7311\n",
      "Epoch 42/60\n",
      "44/44 [==============================] - 0s 928us/step - loss: 0.5467 - accuracy: 0.7304\n",
      "Epoch 43/60\n",
      "44/44 [==============================] - 0s 951us/step - loss: 0.5437 - accuracy: 0.7297\n",
      "Epoch 44/60\n",
      "44/44 [==============================] - 0s 890us/step - loss: 0.5415 - accuracy: 0.7425\n",
      "Epoch 45/60\n",
      "44/44 [==============================] - 0s 951us/step - loss: 0.5402 - accuracy: 0.7425\n",
      "Epoch 46/60\n",
      "44/44 [==============================] - 0s 974us/step - loss: 0.5370 - accuracy: 0.7361\n",
      "Epoch 47/60\n",
      "44/44 [==============================] - 0s 905us/step - loss: 0.5371 - accuracy: 0.7382\n",
      "Epoch 48/60\n",
      "44/44 [==============================] - 0s 987us/step - loss: 0.5301 - accuracy: 0.7382\n",
      "Epoch 49/60\n",
      "44/44 [==============================] - 0s 881us/step - loss: 0.5311 - accuracy: 0.7361\n",
      "Epoch 50/60\n",
      "44/44 [==============================] - 0s 998us/step - loss: 0.5253 - accuracy: 0.7454\n",
      "Epoch 51/60\n",
      "44/44 [==============================] - 0s 939us/step - loss: 0.5368 - accuracy: 0.7397\n",
      "Epoch 52/60\n",
      "44/44 [==============================] - 0s 974us/step - loss: 0.5311 - accuracy: 0.7432\n",
      "Epoch 53/60\n",
      "44/44 [==============================] - 0s 975us/step - loss: 0.5155 - accuracy: 0.7511\n",
      "Epoch 54/60\n",
      "44/44 [==============================] - 0s 862us/step - loss: 0.5151 - accuracy: 0.7561\n",
      "Epoch 55/60\n",
      "44/44 [==============================] - 0s 989us/step - loss: 0.5117 - accuracy: 0.7625\n",
      "Epoch 56/60\n",
      "44/44 [==============================] - 0s 927us/step - loss: 0.5104 - accuracy: 0.7596\n",
      "Epoch 57/60\n",
      "44/44 [==============================] - 0s 1ms/step - loss: 0.5046 - accuracy: 0.7611\n",
      "Epoch 58/60\n",
      "44/44 [==============================] - 0s 906us/step - loss: 0.5015 - accuracy: 0.7618\n",
      "Epoch 59/60\n",
      "44/44 [==============================] - 0s 994us/step - loss: 0.4976 - accuracy: 0.7639\n",
      "Epoch 60/60\n",
      "44/44 [==============================] - 0s 859us/step - loss: 0.4962 - accuracy: 0.7575\n"
     ]
    },
    {
     "data": {
      "text/plain": [
       "<keras.callbacks.History at 0x1b25af14c70>"
      ]
     },
     "execution_count": 142,
     "metadata": {},
     "output_type": "execute_result"
    }
   ],
   "source": [
    "clf = Sequential()\n",
    "clf.add(Dense(32, activation='relu', input_dim=df1.shape[1]))\n",
    "clf.add(Dense(64, activation='relu'))\n",
    "clf.add(Dense(1, activation='sigmoid'))\n",
    "clf.compile(loss='binary_crossentropy', optimizer=SGD(), metrics=[\"accuracy\"])\n",
    "clf.fit(X_train, y_train, epochs=60, batch_size=32, verbose=1)"
   ]
  },
  {
   "cell_type": "code",
   "execution_count": 143,
   "metadata": {},
   "outputs": [
    {
     "name": "stdout",
     "output_type": "stream",
     "text": [
      "19/19 [==============================] - 0s 831us/step - loss: 0.7573 - accuracy: 0.6373\n"
     ]
    },
    {
     "data": {
      "text/plain": [
       "[0.7572954893112183, 0.6372712254524231]"
      ]
     },
     "execution_count": 143,
     "metadata": {},
     "output_type": "execute_result"
    }
   ],
   "source": [
    "clf.evaluate(X_test,y_test)"
   ]
  }
 ],
 "metadata": {
  "interpreter": {
   "hash": "73dd3e9b8560be4eb6b5d0b09c06c2ef1dcaada477697451385c3e06c6541382"
  },
  "kernelspec": {
   "display_name": "Python 3.10.4 64-bit",
   "language": "python",
   "name": "python3"
  },
  "language_info": {
   "codemirror_mode": {
    "name": "ipython",
    "version": 3
   },
   "file_extension": ".py",
   "mimetype": "text/x-python",
   "name": "python",
   "nbconvert_exporter": "python",
   "pygments_lexer": "ipython3",
   "version": "3.10.4"
  },
  "orig_nbformat": 4
 },
 "nbformat": 4,
 "nbformat_minor": 2
}
