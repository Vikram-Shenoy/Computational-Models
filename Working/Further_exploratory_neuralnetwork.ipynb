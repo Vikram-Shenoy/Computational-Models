{
 "cells": [
  {
   "cell_type": "markdown",
   "metadata": {},
   "source": []
  },
  {
   "cell_type": "markdown",
   "metadata": {},
   "source": [
    "Further Neural Network Analysis (MultiLablel and for individual medicines)"
   ]
  },
  {
   "cell_type": "code",
   "execution_count": 92,
   "metadata": {},
   "outputs": [],
   "source": [
    "import pandas as pd\n",
    "import numpy as np \n",
    "from numpy import mean\n",
    "from numpy import std\n",
    "from sklearn.datasets import make_multilabel_classification\n",
    "from sklearn.model_selection import RepeatedKFold\n",
    "from keras.models import Sequential\n",
    "from keras.layers import Dense\n",
    "import tensorflow as tf\n",
    "pd.options.display.max_rows=None\n",
    "pd.options.display.max_columns=None\n",
    "from sklearn.metrics import accuracy_score"
   ]
  },
  {
   "cell_type": "code",
   "execution_count": 93,
   "metadata": {},
   "outputs": [],
   "source": [
    "df1=pd.read_csv(\"random_imputed.csv\",index_col=[0])\n",
    "df1_other=pd.read_csv(\"random_imputed.csv\",index_col=[0])\n",
    "df2=pd.read_csv(\"Raw_NaN.csv\",index_col=[0])\n",
    "df3=pd.read_csv(\"drug_onehot_latest.csv\",index_col=[0])"
   ]
  },
  {
   "cell_type": "code",
   "execution_count": 94,
   "metadata": {},
   "outputs": [
    {
     "data": {
      "text/html": [
       "<div>\n",
       "<style scoped>\n",
       "    .dataframe tbody tr th:only-of-type {\n",
       "        vertical-align: middle;\n",
       "    }\n",
       "\n",
       "    .dataframe tbody tr th {\n",
       "        vertical-align: top;\n",
       "    }\n",
       "\n",
       "    .dataframe thead th {\n",
       "        text-align: right;\n",
       "    }\n",
       "</style>\n",
       "<table border=\"1\" class=\"dataframe\">\n",
       "  <thead>\n",
       "    <tr style=\"text-align: right;\">\n",
       "      <th></th>\n",
       "      <th>sulfotanshinone sodium injection</th>\n",
       "      <th>Furosemide tablet</th>\n",
       "      <th>Meglumine Adenosine Cyclophosphate for injection</th>\n",
       "      <th>Furosemide injection</th>\n",
       "      <th>Milrinone injection</th>\n",
       "      <th>Deslanoside injection</th>\n",
       "      <th>Torasemide tablet</th>\n",
       "      <th>Benazepril hydrochloride tablet</th>\n",
       "      <th>Atorvastatin calcium tablet</th>\n",
       "      <th>Digoxin tablet</th>\n",
       "      <th>Hydrochlorothiazide tablet</th>\n",
       "      <th>Spironolactone tablet</th>\n",
       "      <th>Valsartan Dispersible tablet</th>\n",
       "      <th>Dobutamine hydrochloride injection</th>\n",
       "      <th>Isoprenaline Hydrochloride injection</th>\n",
       "      <th>Nitroglycerin injection</th>\n",
       "      <th>Shenfu injection</th>\n",
       "      <th>Isosorbide Mononitrate Sustained Release tablet</th>\n",
       "    </tr>\n",
       "    <tr>\n",
       "      <th>inpatient.number</th>\n",
       "      <th></th>\n",
       "      <th></th>\n",
       "      <th></th>\n",
       "      <th></th>\n",
       "      <th></th>\n",
       "      <th></th>\n",
       "      <th></th>\n",
       "      <th></th>\n",
       "      <th></th>\n",
       "      <th></th>\n",
       "      <th></th>\n",
       "      <th></th>\n",
       "      <th></th>\n",
       "      <th></th>\n",
       "      <th></th>\n",
       "      <th></th>\n",
       "      <th></th>\n",
       "      <th></th>\n",
       "    </tr>\n",
       "  </thead>\n",
       "  <tbody>\n",
       "    <tr>\n",
       "      <th>722128</th>\n",
       "      <td>0</td>\n",
       "      <td>1</td>\n",
       "      <td>0</td>\n",
       "      <td>1</td>\n",
       "      <td>1</td>\n",
       "      <td>1</td>\n",
       "      <td>0</td>\n",
       "      <td>0</td>\n",
       "      <td>0</td>\n",
       "      <td>1</td>\n",
       "      <td>0</td>\n",
       "      <td>1</td>\n",
       "      <td>0</td>\n",
       "      <td>0</td>\n",
       "      <td>0</td>\n",
       "      <td>0</td>\n",
       "      <td>0</td>\n",
       "      <td>0</td>\n",
       "    </tr>\n",
       "    <tr>\n",
       "      <th>723327</th>\n",
       "      <td>0</td>\n",
       "      <td>1</td>\n",
       "      <td>0</td>\n",
       "      <td>1</td>\n",
       "      <td>1</td>\n",
       "      <td>1</td>\n",
       "      <td>1</td>\n",
       "      <td>0</td>\n",
       "      <td>1</td>\n",
       "      <td>1</td>\n",
       "      <td>0</td>\n",
       "      <td>1</td>\n",
       "      <td>1</td>\n",
       "      <td>0</td>\n",
       "      <td>0</td>\n",
       "      <td>0</td>\n",
       "      <td>0</td>\n",
       "      <td>1</td>\n",
       "    </tr>\n",
       "    <tr>\n",
       "      <th>723617</th>\n",
       "      <td>0</td>\n",
       "      <td>0</td>\n",
       "      <td>0</td>\n",
       "      <td>1</td>\n",
       "      <td>0</td>\n",
       "      <td>0</td>\n",
       "      <td>0</td>\n",
       "      <td>0</td>\n",
       "      <td>1</td>\n",
       "      <td>0</td>\n",
       "      <td>0</td>\n",
       "      <td>1</td>\n",
       "      <td>0</td>\n",
       "      <td>0</td>\n",
       "      <td>0</td>\n",
       "      <td>0</td>\n",
       "      <td>0</td>\n",
       "      <td>0</td>\n",
       "    </tr>\n",
       "    <tr>\n",
       "      <th>724385</th>\n",
       "      <td>0</td>\n",
       "      <td>1</td>\n",
       "      <td>0</td>\n",
       "      <td>1</td>\n",
       "      <td>1</td>\n",
       "      <td>1</td>\n",
       "      <td>0</td>\n",
       "      <td>0</td>\n",
       "      <td>0</td>\n",
       "      <td>1</td>\n",
       "      <td>0</td>\n",
       "      <td>1</td>\n",
       "      <td>0</td>\n",
       "      <td>0</td>\n",
       "      <td>0</td>\n",
       "      <td>0</td>\n",
       "      <td>0</td>\n",
       "      <td>0</td>\n",
       "    </tr>\n",
       "    <tr>\n",
       "      <th>725509</th>\n",
       "      <td>0</td>\n",
       "      <td>1</td>\n",
       "      <td>0</td>\n",
       "      <td>1</td>\n",
       "      <td>1</td>\n",
       "      <td>1</td>\n",
       "      <td>1</td>\n",
       "      <td>0</td>\n",
       "      <td>0</td>\n",
       "      <td>1</td>\n",
       "      <td>0</td>\n",
       "      <td>1</td>\n",
       "      <td>0</td>\n",
       "      <td>0</td>\n",
       "      <td>0</td>\n",
       "      <td>0</td>\n",
       "      <td>1</td>\n",
       "      <td>0</td>\n",
       "    </tr>\n",
       "  </tbody>\n",
       "</table>\n",
       "</div>"
      ],
      "text/plain": [
       "                  sulfotanshinone sodium injection  Furosemide tablet  \\\n",
       "inpatient.number                                                        \n",
       "722128                                           0                  1   \n",
       "723327                                           0                  1   \n",
       "723617                                           0                  0   \n",
       "724385                                           0                  1   \n",
       "725509                                           0                  1   \n",
       "\n",
       "                  Meglumine Adenosine Cyclophosphate for injection  \\\n",
       "inpatient.number                                                     \n",
       "722128                                                           0   \n",
       "723327                                                           0   \n",
       "723617                                                           0   \n",
       "724385                                                           0   \n",
       "725509                                                           0   \n",
       "\n",
       "                  Furosemide injection  Milrinone injection  \\\n",
       "inpatient.number                                              \n",
       "722128                               1                    1   \n",
       "723327                               1                    1   \n",
       "723617                               1                    0   \n",
       "724385                               1                    1   \n",
       "725509                               1                    1   \n",
       "\n",
       "                  Deslanoside injection  Torasemide tablet  \\\n",
       "inpatient.number                                             \n",
       "722128                                1                  0   \n",
       "723327                                1                  1   \n",
       "723617                                0                  0   \n",
       "724385                                1                  0   \n",
       "725509                                1                  1   \n",
       "\n",
       "                  Benazepril hydrochloride tablet  \\\n",
       "inpatient.number                                    \n",
       "722128                                          0   \n",
       "723327                                          0   \n",
       "723617                                          0   \n",
       "724385                                          0   \n",
       "725509                                          0   \n",
       "\n",
       "                  Atorvastatin calcium tablet  Digoxin tablet  \\\n",
       "inpatient.number                                                \n",
       "722128                                      0               1   \n",
       "723327                                      1               1   \n",
       "723617                                      1               0   \n",
       "724385                                      0               1   \n",
       "725509                                      0               1   \n",
       "\n",
       "                  Hydrochlorothiazide tablet  Spironolactone tablet  \\\n",
       "inpatient.number                                                      \n",
       "722128                                     0                      1   \n",
       "723327                                     0                      1   \n",
       "723617                                     0                      1   \n",
       "724385                                     0                      1   \n",
       "725509                                     0                      1   \n",
       "\n",
       "                  Valsartan Dispersible tablet  \\\n",
       "inpatient.number                                 \n",
       "722128                                       0   \n",
       "723327                                       1   \n",
       "723617                                       0   \n",
       "724385                                       0   \n",
       "725509                                       0   \n",
       "\n",
       "                  Dobutamine hydrochloride injection  \\\n",
       "inpatient.number                                       \n",
       "722128                                             0   \n",
       "723327                                             0   \n",
       "723617                                             0   \n",
       "724385                                             0   \n",
       "725509                                             0   \n",
       "\n",
       "                  Isoprenaline Hydrochloride injection  \\\n",
       "inpatient.number                                         \n",
       "722128                                               0   \n",
       "723327                                               0   \n",
       "723617                                               0   \n",
       "724385                                               0   \n",
       "725509                                               0   \n",
       "\n",
       "                  Nitroglycerin injection  Shenfu injection  \\\n",
       "inpatient.number                                              \n",
       "722128                                  0                 0   \n",
       "723327                                  0                 0   \n",
       "723617                                  0                 0   \n",
       "724385                                  0                 0   \n",
       "725509                                  0                 1   \n",
       "\n",
       "                  Isosorbide Mononitrate Sustained Release tablet  \n",
       "inpatient.number                                                   \n",
       "722128                                                          0  \n",
       "723327                                                          1  \n",
       "723617                                                          0  \n",
       "724385                                                          0  \n",
       "725509                                                          0  "
      ]
     },
     "execution_count": 94,
     "metadata": {},
     "output_type": "execute_result"
    }
   ],
   "source": [
    "df3.head()"
   ]
  },
  {
   "cell_type": "code",
   "execution_count": 95,
   "metadata": {},
   "outputs": [],
   "source": [
    "from sklearn import preprocessing"
   ]
  },
  {
   "cell_type": "code",
   "execution_count": 157,
   "metadata": {},
   "outputs": [],
   "source": [
    "df1.drop(['gender','ageCat'],axis=1,inplace=True)"
   ]
  },
  {
   "cell_type": "code",
   "execution_count": 158,
   "metadata": {},
   "outputs": [],
   "source": [
    "scaler = preprocessing.RobustScaler()\n",
    "robust_df = scaler.fit_transform(df1)"
   ]
  },
  {
   "cell_type": "code",
   "execution_count": 159,
   "metadata": {},
   "outputs": [],
   "source": [
    "scaler = preprocessing.StandardScaler()\n",
    "standard_df = scaler.fit_transform(df1)"
   ]
  },
  {
   "cell_type": "code",
   "execution_count": 160,
   "metadata": {},
   "outputs": [],
   "source": [
    "scaler = preprocessing.MinMaxScaler()\n",
    "minmax_df = scaler.fit_transform(df1)"
   ]
  },
  {
   "cell_type": "code",
   "execution_count": 161,
   "metadata": {},
   "outputs": [],
   "source": [
    "scaler = preprocessing.RobustScaler()\n",
    "robust_df_other = scaler.fit_transform(df1_other)"
   ]
  },
  {
   "cell_type": "code",
   "execution_count": 162,
   "metadata": {},
   "outputs": [],
   "source": [
    "scaler = preprocessing.StandardScaler()\n",
    "standard_df_other = scaler.fit_transform(df1_other)"
   ]
  },
  {
   "cell_type": "code",
   "execution_count": 163,
   "metadata": {},
   "outputs": [],
   "source": [
    "scaler = preprocessing.MinMaxScaler()\n",
    "minmax_df_other = scaler.fit_transform(df1_other)"
   ]
  },
  {
   "cell_type": "code",
   "execution_count": 164,
   "metadata": {},
   "outputs": [],
   "source": [
    "df4=df3['Atorvastatin calcium tablet']\n",
    "df4 = df4.to_frame()"
   ]
  },
  {
   "cell_type": "code",
   "execution_count": null,
   "metadata": {},
   "outputs": [],
   "source": []
  },
  {
   "cell_type": "code",
   "execution_count": 165,
   "metadata": {},
   "outputs": [],
   "source": [
    "from keras.models import Sequential\n",
    "from keras.layers import Dense\n",
    "from tensorflow.keras.optimizers import SGD\n",
    "from keras.metrics import binary_accuracy\n",
    "from tensorflow.keras.utils import to_categorical\n",
    "from tensorflow.keras import regularizers\n"
   ]
  },
  {
   "cell_type": "code",
   "execution_count": 166,
   "metadata": {},
   "outputs": [],
   "source": [
    "y = to_categorical(df4)\n",
    "y = np.vstack((y[:, 0]))"
   ]
  },
  {
   "cell_type": "code",
   "execution_count": 192,
   "metadata": {},
   "outputs": [],
   "source": [
    "from sklearn.model_selection import train_test_split\n",
    "X_train, X_test, y_train, y_test = train_test_split(robust_df, df4, test_size=0.2)"
   ]
  },
  {
   "cell_type": "code",
   "execution_count": 193,
   "metadata": {},
   "outputs": [],
   "source": [
    "import random\n",
    "random.seed(42)"
   ]
  },
  {
   "cell_type": "code",
   "execution_count": 198,
   "metadata": {},
   "outputs": [
    {
     "name": "stdout",
     "output_type": "stream",
     "text": [
      "Epoch 1/50\n",
      "51/51 [==============================] - 2s 3ms/step - loss: 0.2911 - accuracy: 0.5243\n",
      "Epoch 2/50\n",
      "51/51 [==============================] - 0s 3ms/step - loss: 0.2466 - accuracy: 0.5980\n",
      "Epoch 3/50\n",
      "51/51 [==============================] - 0s 3ms/step - loss: 0.2282 - accuracy: 0.6361\n",
      "Epoch 4/50\n",
      "51/51 [==============================] - 0s 3ms/step - loss: 0.2167 - accuracy: 0.6692\n",
      "Epoch 5/50\n",
      "51/51 [==============================] - 0s 3ms/step - loss: 0.2082 - accuracy: 0.6916\n",
      "Epoch 6/50\n",
      "51/51 [==============================] - 0s 3ms/step - loss: 0.2035 - accuracy: 0.7066\n",
      "Epoch 7/50\n",
      "51/51 [==============================] - 0s 3ms/step - loss: 0.1949 - accuracy: 0.7272\n",
      "Epoch 8/50\n",
      "51/51 [==============================] - 0s 3ms/step - loss: 0.1905 - accuracy: 0.7328\n",
      "Epoch 9/50\n",
      "51/51 [==============================] - 0s 3ms/step - loss: 0.1832 - accuracy: 0.7484\n",
      "Epoch 10/50\n",
      "51/51 [==============================] - 0s 3ms/step - loss: 0.1900 - accuracy: 0.7397\n",
      "Epoch 11/50\n",
      "51/51 [==============================] - 0s 3ms/step - loss: 0.1760 - accuracy: 0.7653\n",
      "Epoch 12/50\n",
      "51/51 [==============================] - 0s 3ms/step - loss: 0.1690 - accuracy: 0.7790\n",
      "Epoch 13/50\n",
      "51/51 [==============================] - 0s 3ms/step - loss: 0.1684 - accuracy: 0.7722\n",
      "Epoch 14/50\n",
      "51/51 [==============================] - 0s 3ms/step - loss: 0.1644 - accuracy: 0.7884\n",
      "Epoch 15/50\n",
      "51/51 [==============================] - 0s 3ms/step - loss: 0.1624 - accuracy: 0.7946\n",
      "Epoch 16/50\n",
      "51/51 [==============================] - 0s 4ms/step - loss: 0.1594 - accuracy: 0.7934\n",
      "Epoch 17/50\n",
      "51/51 [==============================] - 0s 4ms/step - loss: 0.1574 - accuracy: 0.8102\n",
      "Epoch 18/50\n",
      "51/51 [==============================] - 0s 4ms/step - loss: 0.1547 - accuracy: 0.8121\n",
      "Epoch 19/50\n",
      "51/51 [==============================] - 0s 4ms/step - loss: 0.1511 - accuracy: 0.8221\n",
      "Epoch 20/50\n",
      "51/51 [==============================] - 0s 3ms/step - loss: 0.1486 - accuracy: 0.8315\n",
      "Epoch 21/50\n",
      "51/51 [==============================] - 0s 4ms/step - loss: 0.1462 - accuracy: 0.8277\n",
      "Epoch 22/50\n",
      "51/51 [==============================] - 0s 4ms/step - loss: 0.1464 - accuracy: 0.8271\n",
      "Epoch 23/50\n",
      "51/51 [==============================] - 0s 4ms/step - loss: 0.1425 - accuracy: 0.8333\n",
      "Epoch 24/50\n",
      "51/51 [==============================] - 0s 4ms/step - loss: 0.1406 - accuracy: 0.8402\n",
      "Epoch 25/50\n",
      "51/51 [==============================] - 0s 3ms/step - loss: 0.1358 - accuracy: 0.8527\n",
      "Epoch 26/50\n",
      "51/51 [==============================] - 0s 3ms/step - loss: 0.1333 - accuracy: 0.8552\n",
      "Epoch 27/50\n",
      "51/51 [==============================] - 0s 3ms/step - loss: 0.1313 - accuracy: 0.8564\n",
      "Epoch 28/50\n",
      "51/51 [==============================] - 0s 3ms/step - loss: 0.1315 - accuracy: 0.8564\n",
      "Epoch 29/50\n",
      "51/51 [==============================] - 0s 4ms/step - loss: 0.1286 - accuracy: 0.8583\n",
      "Epoch 30/50\n",
      "51/51 [==============================] - 0s 4ms/step - loss: 0.1251 - accuracy: 0.8664\n",
      "Epoch 31/50\n",
      "51/51 [==============================] - 0s 4ms/step - loss: 0.1231 - accuracy: 0.8764\n",
      "Epoch 32/50\n",
      "51/51 [==============================] - 0s 3ms/step - loss: 0.1215 - accuracy: 0.8645\n",
      "Epoch 33/50\n",
      "51/51 [==============================] - 0s 3ms/step - loss: 0.1213 - accuracy: 0.8689\n",
      "Epoch 34/50\n",
      "51/51 [==============================] - 0s 3ms/step - loss: 0.1184 - accuracy: 0.8808\n",
      "Epoch 35/50\n",
      "51/51 [==============================] - 0s 3ms/step - loss: 0.1135 - accuracy: 0.8883\n",
      "Epoch 36/50\n",
      "51/51 [==============================] - 0s 4ms/step - loss: 0.1116 - accuracy: 0.8901\n",
      "Epoch 37/50\n",
      "51/51 [==============================] - 0s 4ms/step - loss: 0.1097 - accuracy: 0.9001\n",
      "Epoch 38/50\n",
      "51/51 [==============================] - 0s 3ms/step - loss: 0.1071 - accuracy: 0.8945\n",
      "Epoch 39/50\n",
      "51/51 [==============================] - 0s 4ms/step - loss: 0.1065 - accuracy: 0.8951\n",
      "Epoch 40/50\n",
      "51/51 [==============================] - 0s 4ms/step - loss: 0.1042 - accuracy: 0.9032\n",
      "Epoch 41/50\n",
      "51/51 [==============================] - 0s 5ms/step - loss: 0.1026 - accuracy: 0.9070\n",
      "Epoch 42/50\n",
      "51/51 [==============================] - 0s 4ms/step - loss: 0.1040 - accuracy: 0.9020\n",
      "Epoch 43/50\n",
      "51/51 [==============================] - 0s 3ms/step - loss: 0.1004 - accuracy: 0.9045\n",
      "Epoch 44/50\n",
      "51/51 [==============================] - 0s 3ms/step - loss: 0.0967 - accuracy: 0.9164\n",
      "Epoch 45/50\n",
      "51/51 [==============================] - 0s 4ms/step - loss: 0.0958 - accuracy: 0.9139\n",
      "Epoch 46/50\n",
      "51/51 [==============================] - 0s 3ms/step - loss: 0.0958 - accuracy: 0.9132\n",
      "Epoch 47/50\n",
      "51/51 [==============================] - 0s 3ms/step - loss: 0.0991 - accuracy: 0.9020\n",
      "Epoch 48/50\n",
      "51/51 [==============================] - 0s 4ms/step - loss: 0.0916 - accuracy: 0.9176\n",
      "Epoch 49/50\n",
      "51/51 [==============================] - 0s 3ms/step - loss: 0.0884 - accuracy: 0.9201\n",
      "Epoch 50/50\n",
      "51/51 [==============================] - 0s 4ms/step - loss: 0.0867 - accuracy: 0.9288\n"
     ]
    },
    {
     "data": {
      "text/plain": [
       "<keras.callbacks.History at 0x24e716c3cd0>"
      ]
     },
     "execution_count": 198,
     "metadata": {},
     "output_type": "execute_result"
    }
   ],
   "source": [
    "clf = Sequential()\n",
    "clf.add(Dense(32, activation='relu', input_dim=standard_df.shape[1]))\n",
    "clf.add(Dense(1, activation='sigmoid'))\n",
    "clf.compile(loss='mse', optimizer=tf.keras.optimizers.Adam(), metrics=[\"accuracy\"])\n",
    "clf.fit(X_train, y_train, epochs=50,verbose=1)"
   ]
  },
  {
   "cell_type": "code",
   "execution_count": 200,
   "metadata": {},
   "outputs": [
    {
     "name": "stdout",
     "output_type": "stream",
     "text": [
      "13/13 [==============================] - 0s 3ms/step - loss: 0.2816 - accuracy: 0.6035\n"
     ]
    },
    {
     "data": {
      "text/plain": [
       "[0.2815917432308197, 0.6034912467002869]"
      ]
     },
     "execution_count": 200,
     "metadata": {},
     "output_type": "execute_result"
    }
   ],
   "source": [
    "clf.evaluate(X_test,y_test)"
   ]
  },
  {
   "cell_type": "code",
   "execution_count": null,
   "metadata": {},
   "outputs": [],
   "source": []
  },
  {
   "cell_type": "code",
   "execution_count": null,
   "metadata": {},
   "outputs": [],
   "source": []
  },
  {
   "cell_type": "code",
   "execution_count": 89,
   "metadata": {},
   "outputs": [],
   "source": [
    "# clf = Sequential()\n",
    "# clf.add(Dense(32, activation='relu', input_dim=df1.shape[1]))\n",
    "# # clf.add(Dense(64, activation='relu'))\n",
    "# clf.add(Dense(1, activation='sigmoid'))\n",
    "# clf.compile(loss='binary_crossentropy', optimizer=SGD(), metrics=[\"accuracy\"])\n",
    "# clf.fit(X_train, y_train, epochs=60, batch_size=128, verbose=1)"
   ]
  },
  {
   "cell_type": "code",
   "execution_count": 49,
   "metadata": {},
   "outputs": [
    {
     "name": "stdout",
     "output_type": "stream",
     "text": [
      "7/7 [==============================] - 1s 2ms/step - loss: 0.7030 - accuracy: 0.5572\n"
     ]
    },
    {
     "data": {
      "text/plain": [
       "[0.7029848098754883, 0.5572139024734497]"
      ]
     },
     "execution_count": 49,
     "metadata": {},
     "output_type": "execute_result"
    }
   ],
   "source": [
    "# clf.evaluate(X_test,y_test)"
   ]
  },
  {
   "cell_type": "code",
   "execution_count": null,
   "metadata": {},
   "outputs": [],
   "source": []
  }
 ],
 "metadata": {
  "interpreter": {
   "hash": "73dd3e9b8560be4eb6b5d0b09c06c2ef1dcaada477697451385c3e06c6541382"
  },
  "kernelspec": {
   "display_name": "Python 3",
   "language": "python",
   "name": "python3"
  },
  "language_info": {
   "codemirror_mode": {
    "name": "ipython",
    "version": 3
   },
   "file_extension": ".py",
   "mimetype": "text/x-python",
   "name": "python",
   "nbconvert_exporter": "python",
   "pygments_lexer": "ipython3",
   "version": "3.8.8"
  }
 },
 "nbformat": 4,
 "nbformat_minor": 2
}
